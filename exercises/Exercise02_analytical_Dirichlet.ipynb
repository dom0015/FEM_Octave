{
 "cells": [
  {
   "cell_type": "code",
   "execution_count": 24,
   "metadata": {},
   "outputs": [],
   "source": [
    "graphics_toolkit(\"gnuplot\"); % this line is needed only in Octave"
   ]
  },
  {
   "cell_type": "markdown",
   "metadata": {},
   "source": [
    "## Analytické řešení difúzní úlohy v 1d + přidání konvektivního a reaktivního členu\n",
    "Dirichletova úloha"
   ]
  },
  {
   "cell_type": "code",
   "execution_count": 33,
   "metadata": {},
   "outputs": [
    {
     "data": {
      "image/png": "[encoded data removed]",
      "text/plain": [
       "<IPython.core.display.Image object>"
      ]
     },
     "metadata": {},
     "output_type": "display_data"
    }
   ],
   "source": [
    "%% define 1d domain (0,L) and constants\n",
    "L=10;\n",
    "x=linspace(0,L,100);    % points of visualization\n",
    "f=0.2;                  % sources (constant in whole domain\n",
    "k=1;                    % material parameter (e.g. conductivity)\n",
    "legend_items={};        % empty cell prepared for legend\n",
    "figure; hold on         % empty figure\n",
    "\n",
    "%% Diffusion with Dirichlet boundary conditions\n",
    "%   -k*u''(x)=f     in (0,L)\n",
    "%        u(0)=U0\n",
    "%    \t u(L)=UL\n",
    "U0=0;\n",
    "UL=0;\n",
    "u=@(x)-f/(2*k)*x.^2+f*L*x/(2*k)+(UL-U0)*x/L+U0;\n",
    "plot(x,u(x))            % plot of the analytical solution\n",
    "legend_items{end+1}='diffusion Dirichlet';  % append legend\n",
    "\n",
    "%% Diffusion with Dirichlet boundary conditions + reaction\n",
    "%   -k*u''(x)+k0*u(x)=g     in (0,L)\n",
    "%                u(0)=U0\n",
    "%    \t         u(L)=UL\n",
    "k0=2;       % EXAMINE EFFECT OF CHANGING THIS CONSTANT\n",
    "Uhat=1.5;\t% EXAMINE EFFECT OF CHANGING THIS CONSTANT\n",
    "g=f+k0*Uhat;\n",
    "% analytical solution:\n",
    "K=sqrt(k0/k);\n",
    "gk=g/k0;\n",
    "C1=(UL-(U0-gk)*exp(K*L)-gk)/(exp(-K*L)-exp(K*L));\n",
    "C2=U0-C1-g/k0;\n",
    "u=@(x)C1*exp(-K*x)+C2*exp(K*x)+g/k0;\n",
    "plot(x,u(x))   % plot of the analytical solution\n",
    "legend_items{end+1}='d.+reaction Dirichlet';\t% append legend\n",
    "\n",
    "%% Diffusion with Dirichlet boundary conditions + convection\n",
    "%   -k*u''(x)+D*u'(x)=f     in (0,L)\n",
    "%                u(0)=U\n",
    "%    \t         u(L)=UL\n",
    "D=0.5;    % EXAMINE EFFECT OF CHANGING THIS CONSTANT\n",
    "% analytical solution:\n",
    "C2=(UL-U0-f*L/D)/(exp(D*L/k)-1);\n",
    "C1=U0-C2;\n",
    "u=@(x)C1+C2*exp(D/k*x)+f/D*x;\n",
    "plot(x,u(x))            % plot of the analytical solution\n",
    "legend_items{end+1}='d.+convection (+) Dirichlet';  % append legend\n",
    "\n",
    "%% Diffusion with Dirichlet boundary conditions + convection\n",
    "%   -k*u''(x)+D*u'(x)=f     in (0,L)\n",
    "%                u(0)=U\n",
    "%    \t         u(L)=UL\n",
    "D=-0.5;    % EXAMINE EFFECT OF CHANGING THIS CONSTANT\n",
    "% analytical solution:\n",
    "C2=(UL-U0-f*L/D)/(exp(D*L/k)-1);\n",
    "C1=U0-C2;\n",
    "u=@(x)C1+C2*exp(D/k*x)+f/D*x;\n",
    "plot(x,u(x))            % plot of the analytical solution\n",
    "legend_items{end+1}='d.+convection (-) Dirichlet';  % append legend\n",
    "\n",
    "legend(legend_items);                               % show legend\n",
    "grid on"
   ]
  },
  {
   "cell_type": "code",
   "execution_count": null,
   "metadata": {},
   "outputs": [],
   "source": []
  }
 ],
 "metadata": {
  "kernelspec": {
   "display_name": "Octave",
   "language": "octave",
   "name": "octave"
  },
  "language_info": {
   "file_extension": ".m",
   "help_links": [
    {
     "text": "GNU Octave",
     "url": "https://www.gnu.org/software/octave/support.html"
    },
    {
     "text": "Octave Kernel",
     "url": "https://github.com/Calysto/octave_kernel"
    },
    {
     "text": "MetaKernel Magics",
     "url": "https://metakernel.readthedocs.io/en/latest/source/README.html"
    }
   ],
   "mimetype": "text/x-octave",
   "name": "octave",
   "version": "6.1.0"
  }
 },
 "nbformat": 4,
 "nbformat_minor": 4
}
