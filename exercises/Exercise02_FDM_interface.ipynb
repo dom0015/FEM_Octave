{
 "cells": [
  {
   "cell_type": "code",
   "execution_count": 6,
   "metadata": {},
   "outputs": [],
   "source": [
    "graphics_toolkit(\"gnuplot\"); % this line is needed only in Octave"
   ]
  },
  {
   "cell_type": "markdown",
   "metadata": {},
   "source": [
    "## Řešení 1d difúzní úlohy s materiálovým rozhraním pomocí metody konečných diferencí <br> (metoda sítí, finite differences method) \n",
    "\n",
    "Úkolem je vyřešit následující okrajovou úlohu pomocí metody konečných diferencí. Tuto úlohu umíme řešit i analyticky. Získané numerické řešení tedy porovnejte s analytickým a ověřte, zda je numerická aproximace přesnější, když použijete jemnější mřížku (vyšší hodnotu parametru **n**)."
   ]
  },
  {
   "cell_type": "code",
   "execution_count": 7,
   "metadata": {},
   "outputs": [],
   "source": [
    "%% boundary value problem:\n",
    "%   -k1*u1''(x)=f   in (0,M)\n",
    "%   -k2*u2''(x)=f   in (M,L)\n",
    "%   u1(0)=U\n",
    "%   -k2*u2'(L)=T\n",
    "%   u1(M)=u2(M)\n",
    "%   k1*u1'(M+)=k2*u2'(M-)"
   ]
  },
  {
   "cell_type": "markdown",
   "metadata": {},
   "source": [
    "Nastavení všech parametrů výše specifikované úlohy. <br> Začněte nejprve s těmito parametry a až úkol dokončíte, zkuste provádět jejich změny a zkoumat vliv na řešení úlohy."
   ]
  },
  {
   "cell_type": "code",
   "execution_count": 8,
   "metadata": {},
   "outputs": [],
   "source": [
    "f=0.2;\n",
    "k1=2;\n",
    "k2=1;\n",
    "L=10;\n",
    "M=5;\n",
    "U=0;\n",
    "T=-0.5;"
   ]
  },
  {
   "cell_type": "markdown",
   "metadata": {},
   "source": [
    "Řešte úlohu nejprve pomocí metody konečných diferencí, tj. doplňte chybějící příkazy (využijte nápovědu v komentářích):"
   ]
  },
  {
   "cell_type": "code",
   "execution_count": 9,
   "metadata": {},
   "outputs": [
    {
     "data": {
      "image/png": "[encoded data removed]",
      "text/plain": [
       "<IPython.core.display.Image object>"
      ]
     },
     "metadata": {},
     "output_type": "display_data"
    }
   ],
   "source": [
    "%% solution using finite diferences\n",
    "n=10;           % number of steps (discretization intervals)\n",
    "h=L/n;          % length of one step\n",
    "A=diag(ones(n-1,1),-1)-2*diag(ones(n,1))+diag(ones(n-1,1),1); % matrix assembly\n",
    "ind_M=round(n/L*M); % index of the point of material interface\n",
    "k=[k1*ones(ind_M,1); k2*ones(n-ind_M,1)]; % vector of material parameters\n",
    "b=-ones(n,1)*h^2*f./k; % right hand side\n",
    "b(ind_M)=0; A(ind_M,ind_M-1:ind_M+1)=[k1 -k1-k2 k2]; % interface condition\n",
    "b(1)=b(1)-U; % Dirichlet boundary condition\n",
    "A(end,end)=A(end,end)+1; b(end)=b(end)+T/k2*h; % Neumann b. c.\n",
    "u_FDM=A\\b; u_FDM=[U; u_FDM]; % solution of the linear system\n",
    "x_FDM=linspace(0,L,n+1); % points of visualization given by the discretization\n",
    "\n",
    "figure(1)\n",
    "plot(x_FDM,u_FDM) % plot of the numerical solution\n",
    "legend('FDM');\n",
    "grid on"
   ]
  },
  {
   "cell_type": "markdown",
   "metadata": {},
   "source": [
    "Pro srovnání vyřešte úlohu také analyticky. Analytické řešení vykreslete a porovnejte s numerickým:"
   ]
  },
  {
   "cell_type": "code",
   "execution_count": 11,
   "metadata": {},
   "outputs": [
    {
     "data": {
      "image/png": "[encoded data removed]",
      "text/plain": [
       "<IPython.core.display.Image object>"
      ]
     },
     "metadata": {},
     "output_type": "display_data"
    }
   ],
   "source": [
    "%% analytical solution\n",
    "C2=U;\n",
    "D1=(f*L-T)/k2;\n",
    "C1=D1*k2/k1;\n",
    "D2=-f/(2*k1)*M^2+C1*M+C2+f/(2*k2)*M^2-D1*M;\n",
    "u1_analytical=@(x)-f/(2*k1)*x.^2+C1*x+C2;\n",
    "u2_analytical=@(x)-f/(2*k2)*x.^2+D1*x+D2;\n",
    "x1_analytical=linspace(0,M,100); % points of visualization\n",
    "x2_analytical=linspace(M,L,100); % points of visualization\n",
    "\n",
    "figure(2)\n",
    "plot(x_FDM,u_FDM) % plot of the numerical solution\n",
    "hold on\n",
    "plot(x1_analytical,u1_analytical(x1_analytical)) % plot of the analytical solution\n",
    "plot(x2_analytical,u2_analytical(x2_analytical)) % plot of the analytical solution\n",
    "legend('FDM','analytical-k1','analytical-k2');\n",
    "grid on"
   ]
  },
  {
   "cell_type": "code",
   "execution_count": null,
   "metadata": {},
   "outputs": [],
   "source": []
  }
 ],
 "metadata": {
  "kernelspec": {
   "display_name": "Octave",
   "language": "octave",
   "name": "octave"
  },
  "language_info": {
   "file_extension": ".m",
   "help_links": [
    {
     "text": "GNU Octave",
     "url": "https://www.gnu.org/software/octave/support.html"
    },
    {
     "text": "Octave Kernel",
     "url": "https://github.com/Calysto/octave_kernel"
    },
    {
     "text": "MetaKernel Magics",
     "url": "https://metakernel.readthedocs.io/en/latest/source/README.html"
    }
   ],
   "mimetype": "text/x-octave",
   "name": "octave",
   "version": "6.1.0"
  }
 },
 "nbformat": 4,
 "nbformat_minor": 4
}
