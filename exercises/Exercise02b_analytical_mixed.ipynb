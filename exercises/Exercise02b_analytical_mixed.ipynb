{
 "cells": [
  {
   "cell_type": "code",
   "execution_count": 24,
   "metadata": {},
   "outputs": [],
   "source": [
    "graphics_toolkit(\"gnuplot\"); % this line is needed only in Octave"
   ]
  },
  {
   "cell_type": "markdown",
   "metadata": {},
   "source": [
    "## Analytické řešení difúzní úlohy v 1d + přidání konvektivního a reaktivního členu\n",
    "Úloha se smíšenými okrajovými podmínkami"
   ]
  },
  {
   "cell_type": "code",
   "execution_count": 34,
   "metadata": {},
   "outputs": [
    {
     "name": "stdout",
     "output_type": "stream",
     "text": [
      "ans = -34.622\n",
      "ans = -34.622\n",
      "ans = -34.622\n",
      "ans = -34.622\n"
     ]
    },
    {
     "data": {
      "image/png": "[encoded data removed]",
      "text/plain": [
       "<IPython.core.display.Image object>"
      ]
     },
     "metadata": {},
     "output_type": "display_data"
    }
   ],
   "source": [
    "%% define 1d domain (0,L) and constants\n",
    "L=10;\n",
    "x=linspace(0,L,100);    % points of visualization\n",
    "f=0.2;                  % sources (constant in whole domain\n",
    "k=1;                    % material parameter (e.g. conductivity)\n",
    "U=0;                    % Dirichlet boundary condition\n",
    "T=0;                    % Neumann boundary condition\n",
    "legend_items={};        % empty cell prepared for legend\n",
    "figure; hold on         % empty figure\n",
    "\n",
    "%% Diffusion with mixed boundary conditions\n",
    "% plot of the analytical solution\n",
    "%   -k*u''(x)=f     in (0,L)\n",
    "%        u(0)=U\n",
    "%    -k*u'(L)=T\n",
    "u=@(x)-f/(2*k)*x.^2+(f*L-T)*x/k+U;\n",
    "plot(x,u(x))            % plot of the analytical solution\n",
    "legend_items{end+1}='diffusion mixed';      % append legend\n",
    "\n",
    "%% Diffusion with mixed boundary conditions + material interface\n",
    "%   -k1*u1''(x)=f   in (0,M)\n",
    "%   -k2*u2''(x)=f   in (M,L)\n",
    "%   u1(0)=U\n",
    "%   -k2*u2'(L)=T\n",
    "%   u1(M)=u2(M)\n",
    "%   k1*u1'(M+)=k2*u2'(M-)\n",
    "k1=k;   % EXAMINE EFFECT OF CHANGING THIS CONSTANT\n",
    "k2=2*k; % EXAMINE EFFECT OF CHANGING THIS CONSTANT\n",
    "M=5;\n",
    "% analytical solution:\n",
    "C2=U;\n",
    "D1=(f*L-T)/k2;\n",
    "C1=D1*k2/k1;\n",
    "D2=-f/(2*k1)*M^2+C1*M+C2+f/(2*k2)*M^2-D1*M;\n",
    "u1=@(x)-f/(2*k1)*x.^2+C1*x+C2;\n",
    "u2=@(x)-f/(2*k2)*x.^2+D1*x+D2;\n",
    "x1=linspace(0,M,100); x2=linspace(M,L,100); % points of visualization\n",
    "plot(x1,u1(x1)); plot(x2,u2(x2))   % plot of the analytical solution\n",
    "legend_items{end+1}='d.+interface mixed - u1';\t% append legend\n",
    "legend_items{end+1}='d.+interface mixed - u2';\t% append legend\n",
    "\n",
    "%% Diffusion with mixed boundary conditions + reaction\n",
    "%   -k*u''(x)+k0*u(x)=g     in (0,L)\n",
    "%                u(0)=U\n",
    "%            -k*u'(L)=T\n",
    "k0=0.5;\t% EXAMINE EFFECT OF CHANGING THIS CONSTANT\n",
    "Uhat=5;\t% EXAMINE EFFECT OF CHANGING THIS CONSTANT\n",
    "g=f+k0*Uhat;\n",
    "% analytical solution:\n",
    "K=sqrt(k0/k);\n",
    "C1=(T/k+(U-g/k0)*K*exp(K*L))/K/(exp(-K*L)+exp(K*L));\n",
    "C2=U-C1-g/k0;\n",
    "u=@(x)C1*exp(-K*x)+C2*exp(K*x)+g/k0;\n",
    "plot(x,u(x))   % plot of the analytical solution\n",
    "legend_items{end+1}='d.+reaction mixed';    % append legend\n",
    "\n",
    "%% Diffusion with mixed boundary conditions + convection\n",
    "%   -k*u''(x)+D*u'(x)=f     in (0,L)\n",
    "%   u(0)=U\n",
    "%   -k*u'(l)=T\n",
    "D=0.1;    % EXAMINE EFFECT OF CHANGING THIS CONSTANT\n",
    "% analytical solution:\n",
    "C2=(-T/k-f/D)/(D/k*exp(D*L/k));\n",
    "C1=U-C2;\n",
    "u=@(x)C1+C2*exp(D/k*x)+f/D*x;\n",
    "plot(x,u(x))            % plot of the analytical solution\n",
    "legend_items{end+1}='d.+convection mixed';  % append legend\n",
    "\n",
    "legend(legend_items);                       % show legend\n",
    "grid on"
   ]
  },
  {
   "cell_type": "code",
   "execution_count": null,
   "metadata": {},
   "outputs": [],
   "source": []
  }
 ],
 "metadata": {
  "kernelspec": {
   "display_name": "Octave",
   "language": "octave",
   "name": "octave"
  },
  "language_info": {
   "file_extension": ".m",
   "help_links": [
    {
     "text": "GNU Octave",
     "url": "https://www.gnu.org/software/octave/support.html"
    },
    {
     "text": "Octave Kernel",
     "url": "https://github.com/Calysto/octave_kernel"
    },
    {
     "text": "MetaKernel Magics",
     "url": "https://metakernel.readthedocs.io/en/latest/source/README.html"
    }
   ],
   "mimetype": "text/x-octave",
   "name": "octave",
   "version": "6.1.0"
  }
 },
 "nbformat": 4,
 "nbformat_minor": 4
}
