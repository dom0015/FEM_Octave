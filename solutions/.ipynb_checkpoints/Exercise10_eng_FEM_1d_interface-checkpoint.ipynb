{
 "cells": [
  {
   "cell_type": "code",
   "execution_count": 18,
   "metadata": {},
   "outputs": [],
   "source": [
    "graphics_toolkit(\"gnuplot\"); % use if \"plot\" does not work"
   ]
  },
  {
   "cell_type": "markdown",
   "metadata": {},
   "source": [
    "## Finite element method (FEM) in 1d\n",
    "Solve the following 1d diffusion boundary value problem using linear finite elements and compare with analytical solution."
   ]
  },
  {
   "cell_type": "code",
   "execution_count": 19,
   "metadata": {},
   "outputs": [],
   "source": [
    "%% boundary value problem\n",
    "%   -k1*u1''(x)=f   in (0,M)\n",
    "%   -k2*u2''(x)=f   in (M,L)\n",
    "%   u1(0)=U\n",
    "%   -k2*u2'(L)=T\n",
    "%   u1(M)=u2(M)\n",
    "%   k1*u1'(M+)=k2*u2'(M-)\n",
    "\n",
    "k1=1;\n",
    "k2=2;\n",
    "f=-0.1;\n",
    "L=1;\n",
    "M=0.5;\n",
    "U=0;\n",
    "T=0;"
   ]
  },
  {
   "cell_type": "markdown",
   "metadata": {},
   "source": [
    "Preparation of the discretization and material inputs (similar structure will be used in 2d FEM):"
   ]
  },
  {
   "cell_type": "code",
   "execution_count": 20,
   "metadata": {},
   "outputs": [],
   "source": [
    "%% preparation\n",
    "N=6;   % number of intervals of the discretization\n",
    "NODES=linspace(0,L,N+1)'; % all points (matrix of size (N+1)*dim)\n",
    "n_NODES=size(NODES,1); % number of nodes of the discretization\n",
    "ELEMENTS=[(1:n_NODES-1)' (2:n_NODES)']; % matrix of INDICES of elements\n",
    "n_ELEMENTS=size(ELEMENTS,1); % number of elements (equals N in 1d)\n",
    "DBOUNDARY=[1]; % vector of indices of Dirichlet boundary nodes\n",
    "DVALUE=[U]; % Dirichlet values in this boundary nodes\n",
    "FREENODE=true(n_NODES,1); FREENODE(DBOUNDARY)=false; % vector of indices of nodes without D. b. c.\n",
    "NBOUNDARY=[n_NODES]; % vector of indices of Neumann boundary nodes\n",
    "NVALUE=[T]; % Neumann values in this boundary nodes\n",
    "LENGTHS=NODES(ELEMENTS(:,2))-NODES(ELEMENTS(:,1)); % vector of legths of all elements\n",
    "MATERIALS=k1*ones(n_ELEMENTS,1); % vector of material values at each element\n",
    "CENTERS=sum(NODES(ELEMENTS),2)/2; % coordinates of centers of all elements\n",
    "MATERIALS(CENTERS>M)=k2;\n",
    "% MATERIALS((end+1)/2)=(k1+k2)/2;\n",
    "F=f*ones(n_ELEMENTS,1); % vector of source function values at each element"
   ]
  },
  {
   "cell_type": "markdown",
   "metadata": {},
   "source": [
    "Construct FEM matrix and right hand side vector using local matrices and vectors:"
   ]
  },
  {
   "cell_type": "code",
   "execution_count": 21,
   "metadata": {},
   "outputs": [],
   "source": [
    "%% local matrix and rhs\n",
    "A_local=[1 -1; -1 1];   % local matrix 2x2\n",
    "b_local=[1/2; 1/2];     % local r. h. s. 2x1\n",
    "\n",
    "%% global matrix and rhs\n",
    "A=zeros(n_NODES);\n",
    "b=zeros(n_NODES,1);\n",
    "for i=1:n_ELEMENTS\n",
    "    A(ELEMENTS(i,:),ELEMENTS(i,:))=A(ELEMENTS(i,:),ELEMENTS(i,:))+A_local*MATERIALS(i)/LENGTHS(i);\n",
    "    b(ELEMENTS(i,:))=b(ELEMENTS(i,:))+b_local*F(i)*LENGTHS(i);\n",
    "end"
   ]
  },
  {
   "cell_type": "markdown",
   "metadata": {},
   "source": [
    "Eliminate unknowns corresponding to Dirichlet nodes, modify the r. h. s. vector according to Neumann boundary conditions, and solve the resulting linear system:"
   ]
  },
  {
   "cell_type": "code",
   "execution_count": 22,
   "metadata": {},
   "outputs": [],
   "source": [
    "%% boundary conditions\n",
    "u=zeros(n_NODES,1);\n",
    "u(~FREENODE)=DVALUE;\n",
    "b=b-A*u;\n",
    "b(NBOUNDARY)=b(NBOUNDARY)-NVALUE;\n",
    "u(FREENODE)=A(FREENODE,FREENODE)\\b(FREENODE);"
   ]
  },
  {
   "cell_type": "markdown",
   "metadata": {},
   "source": [
    "It remains to plot the solution and compare to analytical solution:"
   ]
  },
  {
   "cell_type": "code",
   "execution_count": 23,
   "metadata": {},
   "outputs": [
    {
     "data": {
      "image/png": "[encoded data removed]",
      "text/plain": [
       "<IPython.core.display.Image object>"
      ]
     },
     "metadata": {},
     "output_type": "display_data"
    }
   ],
   "source": [
    "figure; \n",
    "plot(NODES,u); hold on\n",
    "\n",
    "%% analytical solution\n",
    "C2=U;\n",
    "D1=(f*L-T)/k2;\n",
    "C1=D1*k2/k1;\n",
    "D2=-f/(2*k1)*M^2+C1*M+C2+f/(2*k2)*M^2-D1*M;\n",
    "u1=@(x)-f/(2*k1)*x.^2+C1*x+C2;\n",
    "u2=@(x)-f/(2*k2)*x.^2+D1*x+D2;\n",
    "x1=linspace(0,M,100); x2=linspace(M,L,100); % points of visualization\n",
    "hold on; plot(x1,u1(x1)); plot(x2,u2(x2))   % plot of the analytical solution\n",
    "legend('FEM','analytical-k_1','analytical-k_2');\n",
    "xlabel('x');\n",
    "ylabel('u(x)');"
   ]
  },
  {
   "cell_type": "markdown",
   "metadata": {},
   "source": [
    "## Other tasks:\n",
    "1) Can we use a discretization that has not a node in the point of the interface?"
   ]
  },
  {
   "cell_type": "code",
   "execution_count": null,
   "metadata": {},
   "outputs": [],
   "source": []
  }
 ],
 "metadata": {
  "kernelspec": {
   "display_name": "Octave",
   "language": "octave",
   "name": "octave"
  },
  "language_info": {
   "file_extension": ".m",
   "help_links": [
    {
     "text": "GNU Octave",
     "url": "https://www.gnu.org/software/octave/support.html"
    },
    {
     "text": "Octave Kernel",
     "url": "https://github.com/Calysto/octave_kernel"
    },
    {
     "text": "MetaKernel Magics",
     "url": "https://metakernel.readthedocs.io/en/latest/source/README.html"
    }
   ],
   "mimetype": "text/x-octave",
   "name": "octave",
   "version": "6.2.0"
  }
 },
 "nbformat": 4,
 "nbformat_minor": 4
}
