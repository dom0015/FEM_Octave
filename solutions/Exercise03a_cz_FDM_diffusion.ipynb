{
 "cells": [
  {
   "cell_type": "code",
   "execution_count": 5,
   "metadata": {},
   "outputs": [],
   "source": [
    "graphics_toolkit(\"gnuplot\"); % use if \"plot\" does not work"
   ]
  },
  {
   "cell_type": "markdown",
   "metadata": {},
   "source": [
    "## Řešení difúzní úlohy v 1d pomocí metody konečných diferencí <br> (metoda sítí, finite differences method) \n",
    "\n",
    "Úkolem je vyřešit následující 1d difúzní rovnici pomocí metody konečných diferencí. Tuto úlohu umíme řešit i analyticky. Získané numerické řešení tedy porovnejte s analytickým a ověřte, zda je numerická aproximace přesnější, když použijete jemnější mřížku (vyšší hodnotu parametru **n**)."
   ]
  },
  {
   "cell_type": "code",
   "execution_count": 2,
   "metadata": {},
   "outputs": [],
   "source": [
    "% boundary value problem:\n",
    "%   -k*u''(x)=f     in (0,L)\n",
    "%        u(0)=U\n",
    "%    -k*u'(L)=T"
   ]
  },
  {
   "cell_type": "markdown",
   "metadata": {},
   "source": [
    "Nastavení všech parametrů výše specifikované úlohy. <br> Začněte nejprve s těmito parametry a až úkol dokončíte, zkuste provádět jejich změny a zkoumat vliv na řešení úlohy."
   ]
  },
  {
   "cell_type": "code",
   "execution_count": 3,
   "metadata": {},
   "outputs": [],
   "source": [
    "f=0.2;\n",
    "k=1;\n",
    "L=10;\n",
    "U=1;\n",
    "T=0;"
   ]
  },
  {
   "cell_type": "markdown",
   "metadata": {},
   "source": [
    "Řešte úlohu nejprve pomocí metody konečných diferencí, tj. doplňte chybějící příkazy (využijte nápovědu v komentářích):"
   ]
  },
  {
   "cell_type": "code",
   "execution_count": 6,
   "metadata": {},
   "outputs": [
    {
     "data": {
      "image/png": "[encoded data removed]",
      "text/plain": [
       "<IPython.core.display.Image object>"
      ]
     },
     "metadata": {},
     "output_type": "display_data"
    }
   ],
   "source": [
    "%% solution using finite diferences\n",
    "n=100; % number of steps (discretization intervals)\n",
    "h=L/n; % length of one step\n",
    "A=diag(ones(n-1,1),-1)-2*diag(ones(n,1))+diag(ones(n-1,1),1); % matrix assembly\n",
    "b=-ones(n,1)*h^2*f/k;    % right hand side\n",
    "b(1)=b(1)-U;             % Dirichlet boundary condition\n",
    "A(end,end)=A(end,end)+1; b(end)=b(end)+T/k*h; % Neumann b. c.\n",
    "u_FDM=A\\b;               % solution of the linear system\n",
    "u_FDM=[U; u_FDM];        % adding the left point (with Dirichlet b. c.)\n",
    "x_FDM=linspace(0,L,n+1); % points of visualization given by the discretization\n",
    "figure(1); plot(x_FDM,u_FDM); % plot of the numerical solution\n",
    "legend('FDM');\n",
    "grid on"
   ]
  },
  {
   "cell_type": "markdown",
   "metadata": {},
   "source": [
    "Pro srovnání vyřešte úlohu také analyticky. Analytické řešení vykreslete a porovnejte s numerickým:"
   ]
  },
  {
   "cell_type": "code",
   "execution_count": 7,
   "metadata": {},
   "outputs": [
    {
     "data": {
      "image/png": "[encoded data removed]",
      "text/plain": [
       "<IPython.core.display.Image object>"
      ]
     },
     "metadata": {},
     "output_type": "display_data"
    }
   ],
   "source": [
    "%% analytical solution\n",
    "u_analytical=@(x)-f/(2*k)*x.^2+(f*L-T)*x/k+U;\n",
    "x_analytical=linspace(0,L,100); % points of visualization\n",
    "figure(2);\n",
    "plot(x_FDM,u_FDM) % plot of the numerical solution\n",
    "hold on\n",
    "plot(x_analytical,u_analytical(x_analytical)) % plot of the analytical solution\n",
    "legend('FDM','analytical');\n",
    "grid on"
   ]
  },
  {
   "cell_type": "markdown",
   "metadata": {},
   "source": [
    "## Úkoly k procvičení:\n",
    "1) Modifikujte předchozí kód a řešte následující okrajovou úlohu: <br>\n",
    "    $-k \\cdot u''(x)=f; u \\in (0,L)$ <br>\n",
    "    $-k \\cdot u(0)=T$ <br>\n",
    "    $u(L)=U$\n",
    "    \n",
    "2) Modifikujte předchozí kód a řešte Dirichletovu úlohu: <br>\n",
    "    $-k \\cdot u''(x)=f; u \\in (0,L)$ <br>\n",
    "    $u(0)=U_0$ <br>\n",
    "    $u(L)=U_1$"
   ]
  },
  {
   "cell_type": "code",
   "execution_count": null,
   "metadata": {},
   "outputs": [],
   "source": []
  }
 ],
 "metadata": {
  "kernelspec": {
   "display_name": "Octave",
   "language": "octave",
   "name": "octave"
  },
  "language_info": {
   "file_extension": ".m",
   "help_links": [
    {
     "text": "GNU Octave",
     "url": "https://www.gnu.org/software/octave/support.html"
    },
    {
     "text": "Octave Kernel",
     "url": "https://github.com/Calysto/octave_kernel"
    },
    {
     "text": "MetaKernel Magics",
     "url": "https://metakernel.readthedocs.io/en/latest/source/README.html"
    }
   ],
   "mimetype": "text/x-octave",
   "name": "octave",
   "version": "6.1.0"
  }
 },
 "nbformat": 4,
 "nbformat_minor": 4
}
