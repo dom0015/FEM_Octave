{
 "cells": [
  {
   "cell_type": "code",
   "execution_count": 9,
   "metadata": {},
   "outputs": [],
   "source": [
    "graphics_toolkit(\"gnuplot\"); % use if \"plot\" does not work"
   ]
  },
  {
   "cell_type": "markdown",
   "metadata": {},
   "source": [
    "## Finite element method (FEM) in 1d\n",
    "\n",
    "Solve the following 1d diffusion boundary value problem using linear finite elements and compare with analytical solution."
   ]
  },
  {
   "cell_type": "code",
   "execution_count": 10,
   "metadata": {},
   "outputs": [],
   "source": [
    "%% boundary value problem:\n",
    "%   -k*u''(x)=f     in (0,L)\n",
    "%        u(0)=U\n",
    "%    -k*u'(L)=T\n",
    "\n",
    "f=0.2;\n",
    "k=1;\n",
    "L=10;\n",
    "U=1;\n",
    "T=0;"
   ]
  },
  {
   "cell_type": "markdown",
   "metadata": {},
   "source": [
    "Preparation of the discretization and material inputs (similar structure will be used in 2d FEM):"
   ]
  },
  {
   "cell_type": "code",
   "execution_count": 15,
   "metadata": {},
   "outputs": [],
   "source": [
    "%% preparation\n",
    "N=10; % number of intervals of the discretization\n",
    "NODES=linspace(0,L,N+1); % all points (matrix of size (N+1)*dim)\n",
    "n_NODES=length(NODES); % number of nodes of the discretization\n",
    "ELEMENTS=[1:N; 2:N+1]'; % matrix of INDICES of elements\n",
    "n_ELEMENTS=size(ELEMENTS,1); % number of elements (equals N in 1d)\n",
    "DBOUNDARY=[1]; % vector of indices of Dirichlet boundary nodes\n",
    "DVALUE=[U]; % Dirichlet values in this boundary nodes\n",
    "FREENODE=true(n_NODES,1); FREENODE(DBOUNDARY)=false; % vector of indices of nodes without D. b. c.\n",
    "NBOUNDARY=[N+1]; % vector of indices of Neumann boundary nodes\n",
    "NVALUE=[T]; % Neumann values in this boundary nodes\n",
    "LENGTHS=NODES(ELEMENTS(:,2))-NODES(ELEMENTS(:,1)); % vector of legths of all elements\n",
    "MATERIALS=k*ones(n_ELEMENTS,1); % vector of material values at each element\n",
    "F=f*ones(n_ELEMENTS,1); % vector of source function values at each element"
   ]
  },
  {
   "cell_type": "markdown",
   "metadata": {},
   "source": [
    "Construct FEM matrix and right hand side vector using local matrices and vectors:"
   ]
  },
  {
   "cell_type": "code",
   "execution_count": 22,
   "metadata": {},
   "outputs": [],
   "source": [
    "%% local matrix and rhs\n",
    "A_local=[1 -1; -1 1]; % local matrix 2x2\n",
    "b_local=[1 1]'/2; % local r. h. s. 2x1\n",
    "\n",
    "%% global matrix and rhs\n",
    "A=zeros(n_NODES);\n",
    "b=zeros(n_NODES,1);\n",
    "for i=1:n_ELEMENTS\n",
    "    A(ELEMENTS(i,:),ELEMENTS(i,:))=A(ELEMENTS(i,:),ELEMENTS(i,:))+A_local*MATERIALS(i)/LENGTHS(i);\n",
    "    b(ELEMENTS(i,:))=b(ELEMENTS(i,:))+b_local*F(i);\n",
    "end"
   ]
  },
  {
   "cell_type": "markdown",
   "metadata": {},
   "source": [
    "Eliminate unknowns corresponding to Dirichlet nodes, modify the r. h. s. vector according to Neumann boundary conditions, and solve the resulting linear system:"
   ]
  },
  {
   "cell_type": "code",
   "execution_count": 23,
   "metadata": {},
   "outputs": [],
   "source": [
    "%% boundary conditions\n",
    "u=zeros(n_NODES,1);\n",
    "u(~FREENODE)=DVALUE;\n",
    "b=b-A*u;\n",
    "b(NBOUNDARY)=b(NBOUNDARY)-NVALUE;\n",
    "u(FREENODE)=A(FREENODE,FREENODE)\\b(FREENODE);"
   ]
  },
  {
   "cell_type": "markdown",
   "metadata": {},
   "source": [
    "It remains to plot the solution and compare to analytical solution (if constant functions $k$, $f$ vere considered):"
   ]
  },
  {
   "cell_type": "code",
   "execution_count": 24,
   "metadata": {},
   "outputs": [
    {
     "data": {
      "image/png": "[encoded data removed]",
      "text/plain": [
       "<IPython.core.display.Image object>"
      ]
     },
     "metadata": {},
     "output_type": "display_data"
    }
   ],
   "source": [
    "figure; \n",
    "plot(NODES,u); hold on\n",
    "\n",
    "%% analytical solution\n",
    "u=@(x)-f/(2*k)*x.^2+(f*L-T)*x/k+U;\n",
    "x=linspace(0,L,100);        % points of visualization\n",
    "hold on; plot(x,u(x))       % plot of the analytical solution\n",
    "legend('FEM','analytical');\n",
    "grid on"
   ]
  },
  {
   "cell_type": "markdown",
   "metadata": {},
   "source": [
    "### Tasks:\n",
    "1) Try changing input parameters ($L,f,k,U_0,U_L,\\ldots$).  <br>\n",
    "2) Consider a continuous material function $k(x)$, e.g. $k(x)=x^2+1$"
   ]
  },
  {
   "cell_type": "code",
   "execution_count": null,
   "metadata": {},
   "outputs": [],
   "source": []
  }
 ],
 "metadata": {
  "kernelspec": {
   "display_name": "Octave",
   "language": "octave",
   "name": "octave"
  },
  "language_info": {
   "file_extension": ".m",
   "help_links": [
    {
     "text": "GNU Octave",
     "url": "https://www.gnu.org/software/octave/support.html"
    },
    {
     "text": "Octave Kernel",
     "url": "https://github.com/Calysto/octave_kernel"
    },
    {
     "text": "MetaKernel Magics",
     "url": "https://metakernel.readthedocs.io/en/latest/source/README.html"
    }
   ],
   "mimetype": "text/x-octave",
   "name": "octave",
   "version": "6.2.0"
  }
 },
 "nbformat": 4,
 "nbformat_minor": 4
}
