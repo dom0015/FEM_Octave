{
 "cells": [
  {
   "cell_type": "code",
   "execution_count": 6,
   "metadata": {},
   "outputs": [],
   "source": [
    "graphics_toolkit(\"gnuplot\"); % use if \"plot\" does not work"
   ]
  },
  {
   "cell_type": "markdown",
   "metadata": {},
   "source": [
    "## Finite element method (FEM) in 1d\n",
    "\n",
    "Solve the following 1d diffusion boundary value problem using linear finite elements. Compute the FEM solution $u_h$ for several different step sizes $h$ ($h$=L/N). For each $h$, calculate the approximations of $||u-u_h||_{2,0}$ and $||u-u_h||_{2,1}$. Visualize the dependence of these variables on the value of $h$."
   ]
  },
  {
   "cell_type": "code",
   "execution_count": 7,
   "metadata": {},
   "outputs": [],
   "source": [
    "%% boundary value problem:\n",
    "%   -k*u''(x)=f     in (0,L)\n",
    "%        u(0)=U0\n",
    "%        u(1)=U1\n",
    "\n",
    "global f k L U0 UL T\n",
    "f=1;\n",
    "k=1;\n",
    "L=1;\n",
    "U0=0;\n",
    "UL=0;"
   ]
  },
  {
   "cell_type": "markdown",
   "metadata": {},
   "source": [
    "Wrap the FEM solution into a function that takes N and returns $u_h$ and NODES."
   ]
  },
  {
   "cell_type": "code",
   "execution_count": 8,
   "metadata": {},
   "outputs": [],
   "source": [
    "function [u,NODES] = FEM(N)\n",
    "    global f k L U0 UL T\n",
    "    % N ... number of intervals of the equidistant discretization\n",
    "    %% preparation\n",
    "    NODES=linspace(0,L,N+1)'; % all points (matrix of size (N+1)*dim)\n",
    "    n_NODES=length(NODES); % number of nodes of the discretization\n",
    "    ELEMENTS=[1:n_NODES-1; 2:n_NODES]'; % matrix of INDICES of elements\n",
    "    n_ELEMENTS=size(ELEMENTS,1); % number of elements (equals N in 1d)\n",
    "    DBOUNDARY=[1, n_NODES]; % vector of indices of Dirichlet boundary nodes\n",
    "    DVALUE=[U0, UL]; % Dirichlet values in this boundary nodes\n",
    "    FREENODE=true(n_NODES,1); FREENODE(DBOUNDARY)=false; % vector of indices of nodes without D. b. c.\n",
    "    LENGTHS=NODES(ELEMENTS(:,2))-NODES(ELEMENTS(:,1)); % vector of legths of all elements\n",
    "    MATERIALS=k*ones(n_ELEMENTS,1); % vector of material values at each element\n",
    "    F=f*ones(n_ELEMENTS,1); % vector of source function values at each element\n",
    "    \n",
    "    %% local matrix and rhs\n",
    "    A_local=[1 -1; -1 1]; % local matrix 2x2\n",
    "    b_local=[1 1]'/2; % local r. h. s. 2x1\n",
    "\n",
    "    %% global matrix and rhs\n",
    "    A=zeros(n_NODES);\n",
    "    b=zeros(n_NODES,1);\n",
    "    for i=1:n_ELEMENTS\n",
    "        A(ELEMENTS(i,:),ELEMENTS(i,:))=A(ELEMENTS(i,:),ELEMENTS(i,:))+A_local*MATERIALS(i)/LENGTHS(i);\n",
    "        b(ELEMENTS(i,:))=b(ELEMENTS(i,:))+b_local*F(i)*LENGTHS(i);\n",
    "    end\n",
    "    \n",
    "    %% boundary conditions\n",
    "    u=zeros(n_NODES,1);\n",
    "    u(~FREENODE)=DVALUE;\n",
    "    b=b-A*u;\n",
    "    u(FREENODE)=A(FREENODE,FREENODE)\\b(FREENODE);\n",
    "end"
   ]
  },
  {
   "cell_type": "markdown",
   "metadata": {},
   "source": [
    "Prepare the analytical solution $u(x)$."
   ]
  },
  {
   "cell_type": "code",
   "execution_count": 9,
   "metadata": {},
   "outputs": [],
   "source": [
    "u=@(x)-f/(2*k)*x.^2+f*L*x/(2*k)+(UL-U0)*x/L+U0; % analytical solution\n",
    "u_diff=@(x)-f/(2*k)*2*x+f*L/(2*k)+(UL-U0)/L;"
   ]
  },
  {
   "cell_type": "markdown",
   "metadata": {},
   "source": [
    "Visual comparison:"
   ]
  },
  {
   "cell_type": "code",
   "execution_count": 10,
   "metadata": {},
   "outputs": [
    {
     "data": {
      "image/png": "[encoded data removed]",
      "text/plain": [
       "<IPython.core.display.Image object>"
      ]
     },
     "metadata": {},
     "output_type": "display_data"
    }
   ],
   "source": [
    "figure;\n",
    "xx=linspace(0,L,100);\n",
    "plot(xx,u(xx));\n",
    "hold on;\n",
    "N_vec = [5, 10, 20];\n",
    "n = length(N_vec);\n",
    "for i=1:n\n",
    "    N = N_vec(i); % pocet intervalu diskretizace\n",
    "    [uh,NODES] = FEM(N);\n",
    "    plot(NODES,uh)\n",
    "end"
   ]
  },
  {
   "cell_type": "markdown",
   "metadata": {},
   "source": [
    "Prepare a function that calculate $||u-u_h||_{2,0}$ and $||u'-u'_h||_{2,0}$ (numerically)."
   ]
  },
  {
   "cell_type": "code",
   "execution_count": 11,
   "metadata": {},
   "outputs": [],
   "source": [
    "function [L2error,L2error_d] = L2error(u,u_diff,uh,NODES)\n",
    "    N = length(NODES)-1;\n",
    "    %syms x\n",
    "    %yy=vpa(subs(diff(u(x)),x,xx));\n",
    "    L2error_pow = 0;\n",
    "    L2error_d_pow = 0;\n",
    "    for i=1:N\n",
    "        x0 = NODES(i);\n",
    "        x1 = NODES(i+1);\n",
    "        uhE = @(x) (uh(i)*(x-x1)-uh(i+1)*(x-x0))/(x0-x1);\n",
    "        f = @(x) (u(x)-uhE(x)).^2;\n",
    "        L2error_pow = L2error_pow + integral(f,x0,x1);\n",
    "        uhE_diff = (uh(i+1)-uh(i))/(x1-x0);\n",
    "        f_diff = @(x) (u_diff(x)-uhE_diff).^2;\n",
    "        L2error_d_pow = L2error_d_pow + integral(f_diff,x0,x1);\n",
    "        %fd = (diff(u(x))-uhE_diff).^2;\n",
    "        %L2error_d_pow = L2error_d_pow + int(fd,x0,x1);\n",
    "    end\n",
    "    L2error = sqrt(L2error_pow);\n",
    "    L2error_d = sqrt(L2error_d_pow);\n",
    "end"
   ]
  },
  {
   "cell_type": "markdown",
   "metadata": {},
   "source": [
    "Solve the problem for several values of N. For each N, calculate the approximations of $||u-u_h||_{2,0}$ and $||u-u_h||_{2,1}$."
   ]
  },
  {
   "cell_type": "code",
   "execution_count": 12,
   "metadata": {},
   "outputs": [
    {
     "name": "stdout",
     "output_type": "stream",
     "text": [
      "5\n",
      "3.6515e-03\n",
      "0.057850\n",
      "10\n",
      "9.1287e-04\n",
      "0.028882\n",
      "20\n",
      "2.2822e-04\n",
      "0.014436\n",
      "40\n",
      "5.7054e-05\n",
      "7.2171e-03\n",
      "80\n",
      "1.4264e-05\n",
      "3.6085e-03\n",
      "160\n",
      "3.5659e-06\n",
      "1.8042e-03\n",
      "320\n",
      "8.9148e-07\n",
      "9.0211e-04\n"
     ]
    }
   ],
   "source": [
    "%N_vec = 1+2*floor(exp(linspace(log(2),log(1000),10))); % numbers of elements\n",
    "N_vec = [5, 10, 20, 40, 80, 160, 320];\n",
    "n=length(N_vec);\n",
    "L2error_vec = zeros(n,1);\n",
    "H1error_vec = zeros(n,1);\n",
    "for i=1:n\n",
    "    N = N_vec(i); % pocet intervalu diskretizace\n",
    "    [uh,NODES] = FEM(N);\n",
    "    [tmp1,tmp2] = L2error(u,u_diff,uh,NODES);\n",
    "    L2error_vec(i) = tmp1;\n",
    "    H1error_vec(i) = sqrt(tmp1^2 + tmp2^2);\n",
    "    disp(N)\n",
    "    disp(L2error_vec(i))\n",
    "    disp(H1error_vec(i))\n",
    "end"
   ]
  },
  {
   "cell_type": "markdown",
   "metadata": {},
   "source": [
    "Plot $||u-u_h||_{2,0}$ and $||u-u_h||_{2,1}$ as functions of $h$."
   ]
  },
  {
   "cell_type": "code",
   "execution_count": 15,
   "metadata": {},
   "outputs": [
    {
     "data": {
      "image/png": "[encoded data removed]",
      "text/plain": [
       "<IPython.core.display.Image object>"
      ]
     },
     "metadata": {},
     "output_type": "display_data"
    }
   ],
   "source": [
    "figure;\n",
    "h_vec = L./N_vec;\n",
    "plot(h_vec,L2error_vec,'.-');\n",
    "hold on\n",
    "plot(h_vec,H1error_vec,'.-');\n",
    "set(gca,'XScale','log');\n",
    "set(gca,'YScale','log');\n",
    "grid on\n",
    "legend(\"L2\");\n",
    "xlabel(\"h\");\n",
    "ylabel(\"error\");"
   ]
  },
  {
   "cell_type": "code",
   "execution_count": null,
   "metadata": {},
   "outputs": [],
   "source": []
  }
 ],
 "metadata": {
  "kernelspec": {
   "display_name": "Octave",
   "language": "octave",
   "name": "octave"
  },
  "language_info": {
   "file_extension": ".m",
   "help_links": [
    {
     "text": "GNU Octave",
     "url": "https://www.gnu.org/software/octave/support.html"
    },
    {
     "text": "Octave Kernel",
     "url": "https://github.com/Calysto/octave_kernel"
    },
    {
     "text": "MetaKernel Magics",
     "url": "https://metakernel.readthedocs.io/en/latest/source/README.html"
    }
   ],
   "mimetype": "text/x-octave",
   "name": "octave",
   "version": "6.2.0"
  }
 },
 "nbformat": 4,
 "nbformat_minor": 4
}
