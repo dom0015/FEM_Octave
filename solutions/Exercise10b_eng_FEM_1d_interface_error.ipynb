{
 "cells": [
  {
   "cell_type": "code",
   "execution_count": 118,
   "metadata": {},
   "outputs": [],
   "source": [
    "graphics_toolkit(\"gnuplot\"); % use if \"plot\" does not work"
   ]
  },
  {
   "cell_type": "markdown",
   "metadata": {},
   "source": [
    "## Finite element method (FEM) in 1d\n",
    "\n",
    "Solve the following 1d diffusion boundary value problem using linear finite elements. Compute the FEM solution $u_h$ for several different step sizes $h$ ($h$=L/N). For each $h$, calculate the approximations of $||u-u_h||_{2,0}$ and $||u-u_h||_{2,1}$. Visualize the dependence of these variables on the value of $h$."
   ]
  },
  {
   "cell_type": "code",
   "execution_count": 119,
   "metadata": {},
   "outputs": [],
   "source": [
    "%% boundary value problem\n",
    "%   -k1*u1''(x)=f   in (0,M)\n",
    "%   -k2*u2''(x)=f   in (M,L)\n",
    "%   u1(0)=U\n",
    "%   -k2*u2'(L)=T\n",
    "%   u1(M)=u2(M)\n",
    "%   k1*u1'(M+)=k2*u2'(M-)\n",
    "\n",
    "global f k1 k2 L U T M\n",
    "k1=1;\n",
    "k2=2;\n",
    "f=-0.1;\n",
    "L=1;\n",
    "M=0.5;\n",
    "U=0;\n",
    "T=0;"
   ]
  },
  {
   "cell_type": "markdown",
   "metadata": {},
   "source": [
    "Wrap the FEM solution into a function that takes N and returns $u_h$ and NODES."
   ]
  },
  {
   "cell_type": "code",
   "execution_count": 120,
   "metadata": {},
   "outputs": [],
   "source": [
    "function [u,NODES] = FEM(N)\n",
    "    global f k1 k2 L U T M\n",
    "    % N ... number of intervals of the equidistant discretization\n",
    "    %% preparation\n",
    "    NODES=linspace(0,L,N+1)'; % all points (matrix of size (N+1)*dim)\n",
    "    n_NODES=length(NODES); % number of nodes of the discretization\n",
    "    ELEMENTS=[1:n_NODES-1; 2:n_NODES]'; % matrix of INDICES of elements\n",
    "    n_ELEMENTS=size(ELEMENTS,1); % number of elements (equals N in 1d)\n",
    "    DBOUNDARY=[1]; % vector of indices of Dirichlet boundary nodes\n",
    "    DVALUE=[U]; % Dirichlet values in this boundary nodes\n",
    "    FREENODE=true(n_NODES,1); FREENODE(DBOUNDARY)=false; % vector of indices of nodes without D. b. c.\n",
    "    NBOUNDARY=[n_NODES]; % vector of indices of Neumann boundary nodes\n",
    "    NVALUE=[T]; % Neumann values in this boundary nodes\n",
    "    LENGTHS=NODES(ELEMENTS(:,2))-NODES(ELEMENTS(:,1)); % vector of legths of all elements\n",
    "    MATERIALS=k1*ones(n_ELEMENTS,1); % vector of material values at each element\n",
    "    CENTERS=sum(NODES(ELEMENTS),2)/2; % coordinates of centers of all elements\n",
    "    MATERIALS(CENTERS>M)=k2;\n",
    "    if mod(N,2)~=0\n",
    "        MATERIALS((end+1)/2)=(k1+k2)/2;\n",
    "    end\n",
    "    F=f*ones(n_ELEMENTS,1); % vector of source function values at each element\n",
    "    \n",
    "    %% local matrix and rhs\n",
    "    A_local=[1 -1; -1 1]; % local matrix 2x2\n",
    "    b_local=[1 1]'/2; % local r. h. s. 2x1\n",
    "\n",
    "    %% global matrix and rhs\n",
    "    A=zeros(n_NODES);\n",
    "    b=zeros(n_NODES,1);\n",
    "    for i=1:n_ELEMENTS\n",
    "        A(ELEMENTS(i,:),ELEMENTS(i,:))=A(ELEMENTS(i,:),ELEMENTS(i,:))+A_local*MATERIALS(i)/LENGTHS(i);\n",
    "        b(ELEMENTS(i,:))=b(ELEMENTS(i,:))+b_local*F(i)*LENGTHS(i);\n",
    "    end\n",
    "    \n",
    "    %% boundary conditions\n",
    "    u=zeros(n_NODES,1);\n",
    "    u(~FREENODE)=DVALUE;\n",
    "    b=b-A*u;\n",
    "    b(NBOUNDARY)=b(NBOUNDARY)-NVALUE;\n",
    "    u(FREENODE)=A(FREENODE,FREENODE)\\b(FREENODE);\n",
    "end"
   ]
  },
  {
   "cell_type": "markdown",
   "metadata": {},
   "source": [
    "Prepare the analytical solution $u(x)$ and its derivative:"
   ]
  },
  {
   "cell_type": "code",
   "execution_count": 121,
   "metadata": {},
   "outputs": [],
   "source": [
    "function y = u_analyt(x)\n",
    "    global f k1 k2 L U T M\n",
    "    tmp = x*0+1;\n",
    "    k = k1*tmp; % vector\n",
    "    k(x>M)=k2;\n",
    "    D1=(f*L-T)/k2;\n",
    "    C1=D1*k2/k1*tmp; % vector\n",
    "    C1(x>M)=(f*L-T)/k2;\n",
    "    C2=U*tmp;\n",
    "    C2(x>M)=-f/(2*k1)*M^2+D1*k2/k1*M+U+f/(2*k2)*M^2-D1*M;\n",
    "    y=-f./(2*k).*x.^2+C1.*x+C2;\n",
    "end\n",
    "function y = u_analyt_diff(x)\n",
    "    global f k1 k2 L U T M\n",
    "    tmp = x*0+1;\n",
    "    k = k1*tmp; % vector\n",
    "    k(x>M)=k2;\n",
    "    D1=(f*L-T)/k2;\n",
    "    C1=D1*k2/k1*tmp; % vector\n",
    "    C1(x>M)=(f*L-T)/k2;\n",
    "    y=-f./k.*x+C1;\n",
    "end\n",
    "\n",
    "u=@(x)u_analyt(x); % analytical solution\n",
    "u_diff=@(x)u_analyt_diff(x);"
   ]
  },
  {
   "cell_type": "markdown",
   "metadata": {},
   "source": [
    "Visual comparison:"
   ]
  },
  {
   "cell_type": "code",
   "execution_count": 122,
   "metadata": {},
   "outputs": [
    {
     "data": {
      "image/png": "[encoded data removed]",
      "text/plain": [
       "<IPython.core.display.Image object>"
      ]
     },
     "metadata": {},
     "output_type": "display_data"
    }
   ],
   "source": [
    "figure;\n",
    "xx=linspace(0,L,100);\n",
    "plot(xx,u(xx));\n",
    "hold on;\n",
    "plot(xx,u_diff(xx));\n",
    "N = 5;\n",
    "[uh,NODES] = FEM(N);\n",
    "plot(NODES,uh);\n",
    "legend(\"u analyt.\",\"u diff analyt\",\"u FEM\");"
   ]
  },
  {
   "cell_type": "markdown",
   "metadata": {},
   "source": [
    "Prepare a function that calculate $||u-u_h||_{2,0}$ and $||u'-u'_h||_{2,0}$ (numerically)."
   ]
  },
  {
   "cell_type": "code",
   "execution_count": 123,
   "metadata": {},
   "outputs": [],
   "source": [
    "function [L2error,L2error_d] = L2error(u,u_diff,uh,NODES)\n",
    "    N = length(NODES)-1;\n",
    "    %syms x\n",
    "    %yy=vpa(subs(diff(u(x)),x,xx));\n",
    "    L2error_pow = 0;\n",
    "    L2error_d_pow = 0;\n",
    "    for i=1:N\n",
    "        x0 = NODES(i);\n",
    "        x1 = NODES(i+1);\n",
    "        uhE = @(x) (uh(i)*(x-x1)-uh(i+1)*(x-x0))/(x0-x1);\n",
    "        f = @(x) (u(x)-uhE(x)).^2;\n",
    "        L2error_pow = L2error_pow + integral(f,x0,x1);\n",
    "        uhE_diff = (uh(i+1)-uh(i))/(x1-x0);\n",
    "        f_diff = @(x) (u_diff(x)-uhE_diff).^2;\n",
    "        L2error_d_pow = L2error_d_pow + integral(f_diff,x0,x1);\n",
    "        %fd = (diff(u(x))-uhE_diff).^2;\n",
    "        %L2error_d_pow = L2error_d_pow + int(fd,x0,x1);\n",
    "    end\n",
    "    L2error = sqrt(L2error_pow);\n",
    "    L2error_d = sqrt(L2error_d_pow);\n",
    "end"
   ]
  },
  {
   "cell_type": "markdown",
   "metadata": {},
   "source": [
    "Solve the problem for several values of $N$. For each $N$, calculate the approximations of $||u-u_h||_{2,0}$ and $||u-u_h||_{2,1}$. "
   ]
  },
  {
   "cell_type": "code",
   "execution_count": 124,
   "metadata": {},
   "outputs": [],
   "source": [
    "N_vec = [2, 4, 8, 16, 32, 64, 128, 256, 512]; % numbers of elements (even)\n",
    "n=length(N_vec);\n",
    "L2error_vec = zeros(n,1);\n",
    "H1error_vec = zeros(n,1);\n",
    "for i=1:n\n",
    "    N = N_vec(i); % pocet intervalu diskretizace\n",
    "    [uh,NODES] = FEM(N);\n",
    "    [tmp1,tmp2] = L2error(u,u_diff,uh,NODES);\n",
    "    L2error_vec(i) = tmp1;\n",
    "    H1error_vec(i) = sqrt(tmp1^2 + tmp2^2);\n",
    "end"
   ]
  },
  {
   "cell_type": "markdown",
   "metadata": {},
   "source": [
    "Plot $||u-u_h||_{2,0}$ and $||u-u_h||_{2,1}$ as functions of $h$."
   ]
  },
  {
   "cell_type": "code",
   "execution_count": 125,
   "metadata": {
    "scrolled": false
   },
   "outputs": [
    {
     "data": {
      "image/png": "[encoded data removed]",
      "text/plain": [
       "<IPython.core.display.Image object>"
      ]
     },
     "metadata": {},
     "output_type": "display_data"
    }
   ],
   "source": [
    "figure;\n",
    "h_vec = L./N_vec;\n",
    "plot(h_vec,L2error_vec,'.-');\n",
    "hold on\n",
    "plot(h_vec,H1error_vec,'.-');\n",
    "set(gca,'XScale','log');\n",
    "set(gca,'YScale','log');\n",
    "grid on\n",
    "legend(\"L2\",\"H1\");\n",
    "xlabel(\"h\");\n",
    "ylabel(\"error\");"
   ]
  },
  {
   "cell_type": "markdown",
   "metadata": {},
   "source": [
    "Try choosing only odd values of $N$!"
   ]
  },
  {
   "cell_type": "code",
   "execution_count": 126,
   "metadata": {},
   "outputs": [],
   "source": [
    "N_vec = N_vec+1; % numbers of elements (odd)\n",
    "n=length(N_vec);\n",
    "L2error_vec_odd = zeros(n,1);\n",
    "H1error_vec_odd = zeros(n,1);\n",
    "for i=1:n\n",
    "    N = N_vec(i); % pocet intervalu diskretizace\n",
    "    [uh,NODES] = FEM(N);\n",
    "    [tmp1,tmp2] = L2error(u,u_diff,uh,NODES);\n",
    "    L2error_vec_odd(i) = tmp1;\n",
    "    H1error_vec_odd(i) = sqrt(tmp1^2 + tmp2^2);\n",
    "end"
   ]
  },
  {
   "cell_type": "markdown",
   "metadata": {},
   "source": [
    "Plot $||u-u_h||_{2,0}$ and $||u-u_h||_{2,1}$ as functions of $h$. Compare with error for even values of $N$:"
   ]
  },
  {
   "cell_type": "code",
   "execution_count": 127,
   "metadata": {},
   "outputs": [
    {
     "data": {
      "image/png": "[encoded data removed]",
      "text/plain": [
       "<IPython.core.display.Image object>"
      ]
     },
     "metadata": {},
     "output_type": "display_data"
    }
   ],
   "source": [
    "figure;\n",
    "h_vec_odd = L./N_vec;\n",
    "plot(h_vec,L2error_vec,'.-');\n",
    "hold on\n",
    "plot(h_vec,H1error_vec,'.-');\n",
    "plot(h_vec_odd,L2error_vec_odd,'.-');\n",
    "plot(h_vec_odd,H1error_vec_odd,'.-');\n",
    "set(gca,'XScale','log');\n",
    "set(gca,'YScale','log');\n",
    "grid on\n",
    "legend(\"L2\",\"H1\",\"L2 odd\",\"H1 odd\");\n",
    "xlabel(\"h\");\n",
    "ylabel(\"error\");"
   ]
  },
  {
   "cell_type": "code",
   "execution_count": null,
   "metadata": {},
   "outputs": [],
   "source": []
  }
 ],
 "metadata": {
  "kernelspec": {
   "display_name": "Octave",
   "language": "octave",
   "name": "octave"
  },
  "language_info": {
   "file_extension": ".m",
   "help_links": [
    {
     "text": "GNU Octave",
     "url": "https://www.gnu.org/software/octave/support.html"
    },
    {
     "text": "Octave Kernel",
     "url": "https://github.com/Calysto/octave_kernel"
    },
    {
     "text": "MetaKernel Magics",
     "url": "https://metakernel.readthedocs.io/en/latest/source/README.html"
    }
   ],
   "mimetype": "text/x-octave",
   "name": "octave",
   "version": "6.2.0"
  }
 },
 "nbformat": 4,
 "nbformat_minor": 4
}
