{
 "cells": [
  {
   "cell_type": "code",
   "execution_count": 4,
   "metadata": {},
   "outputs": [],
   "source": [
    "graphics_toolkit(\"gnuplot\"); % use if \"plot\" does not work"
   ]
  },
  {
   "cell_type": "markdown",
   "metadata": {},
   "source": [
    "## Finite element method (FEM) in 1d\n",
    "For the following FEM solution, calculate $L_2$ and $H^1$ norm of $u_{analytical}-u_{FEM}$."
   ]
  },
  {
   "cell_type": "code",
   "execution_count": 5,
   "metadata": {},
   "outputs": [
    {
     "data": {
      "image/png": "[encoded data removed]",
      "text/plain": [
       "<IPython.core.display.Image object>"
      ]
     },
     "metadata": {},
     "output_type": "display_data"
    }
   ],
   "source": [
    "%% boundary value problem:\n",
    "%   -k*u''(x)+k0*u(x)=g\n",
    "%   u(0)=U\n",
    "%   -k*u(L)=T\n",
    "\n",
    "k=1;\n",
    "k0=1; \n",
    "L=1;\n",
    "f=1; Uhat=0; g=f+k0*Uhat;\n",
    "U=0;\n",
    "T=0;\n",
    "\n",
    "%% network\n",
    "N=10;\n",
    "POINTS=linspace(0,L,N+1)';\n",
    "n_POINTS=size(POINTS,1);\n",
    "ELEMENTS=[(1:n_POINTS-1)' (2:n_POINTS)'];\n",
    "n_ELEMENTS=size(ELEMENTS,1);\n",
    "DBOUNDARY=1;\n",
    "DVALUE=U;\n",
    "FREENODE=true(n_POINTS,1); FREENODE(DBOUNDARY)=false;\n",
    "NBOUNDARY=n_POINTS;\n",
    "NVALUE=T;\n",
    "LENGTHS=POINTS(ELEMENTS(:,2))-POINTS(ELEMENTS(:,1));\n",
    "% CENTERS= % coordinates of centers of all elements\n",
    "MATERIALS=k*ones(n_ELEMENTS,1);\n",
    "F=g*ones(n_ELEMENTS,1);\n",
    "MATERIALS0=k0*ones(n_ELEMENTS,1);\n",
    "\n",
    "%% local matrices and rhs\n",
    "A_local=[1 -1; -1 1];\n",
    "M_local=[1/3 1/6; 1/6 1/3];\n",
    "b_local=[1/2; 1/2];\n",
    "\n",
    "%% global matrix and rhs\n",
    "A=zeros(n_POINTS);\n",
    "M=zeros(n_POINTS);\n",
    "b=zeros(n_POINTS,1);\n",
    "for i=1:n_ELEMENTS\n",
    "    A(ELEMENTS(i,:),ELEMENTS(i,:))=A(ELEMENTS(i,:),ELEMENTS(i,:))+A_local*MATERIALS(i)/LENGTHS(i);\n",
    "    M(ELEMENTS(i,:),ELEMENTS(i,:))=M(ELEMENTS(i,:),ELEMENTS(i,:))+M_local*MATERIALS0(i)*LENGTHS(i);\n",
    "    b(ELEMENTS(i,:))=b(ELEMENTS(i,:))+b_local*F(i)*LENGTHS(i);\n",
    "end\n",
    "AM=A+M;\n",
    "%% boundary value conditions and solution\n",
    "u=zeros(n_POINTS,1);\n",
    "u(~FREENODE)=DVALUE;\n",
    "b=b-AM*u;\n",
    "b(NBOUNDARY)=b(NBOUNDARY)-NVALUE;\n",
    "u(FREENODE)=AM(FREENODE,FREENODE)\\b(FREENODE);\n",
    "figure; plot(POINTS,u); hold on\n",
    "\n",
    "%% analytical solution\n",
    "K=sqrt(k0/k);\n",
    "C1=(T/k+(U-g/k0)*K*exp(K*L))/K/(exp(-K*L)+exp(K*L));\n",
    "C2=U-C1-g/k0;\n",
    "u_analyt=@(x)C1*exp(-K*x)+C2*exp(K*x)+g/k0;\n",
    "x=linspace(0,L,100);    % points of visualization\n",
    "hold on; plot(x,u_analyt(x))   % plot of the analytical solution\n",
    "legend('FEM','analytical');"
   ]
  },
  {
   "cell_type": "code",
   "execution_count": 6,
   "metadata": {},
   "outputs": [
    {
     "name": "stdout",
     "output_type": "stream",
     "text": [
      "L2_norm = 5.8797e-04\r\n"
     ]
    }
   ],
   "source": [
    "%% L2 norm:\n",
    "I=0;\n",
    "for i=1:n_ELEMENTS\n",
    "    x1=POINTS(ELEMENTS(i,1));\n",
    "    x2=POINTS(ELEMENTS(i,2));\n",
    "    u1=u(ELEMENTS(i,1));\n",
    "    u2=u(ELEMENTS(i,2));\n",
    "    u_h=@(x)(x2-x)*u1/(x2-x1)+(x-x1)*u2/(x2-x1);\n",
    "    arg_int=@(x)(u_analyt(x)-u_h(x)).^2;\n",
    "    I=I+integral(arg_int,x1,x2);\n",
    "end\n",
    "L2_norm=sqrt(I)"
   ]
  },
  {
   "cell_type": "code",
   "execution_count": 7,
   "metadata": {},
   "outputs": [
    {
     "name": "stdout",
     "output_type": "stream",
     "text": [
      "L2_der_norm = 0.022184\r\n"
     ]
    }
   ],
   "source": [
    "%% derivative L2 norm:\n",
    "u_der=(u(2:end)-u(1:end-1))./LENGTHS;\n",
    "u_analyt_der=@(x)-K*C1*exp(-K*x)+K*C2*exp(K*x);\n",
    "I_der=0;\n",
    "for i=1:n_ELEMENTS\n",
    "    arg_int=@(x)(u_analyt_der(x)-u_der(i)).^2;\n",
    "    x1=POINTS(ELEMENTS(i,1));\n",
    "    x2=POINTS(ELEMENTS(i,2));\n",
    "    I_der=I_der+integral(arg_int,x1,x2);\n",
    "end\n",
    "L2_der_norm=sqrt(I_der)"
   ]
  },
  {
   "cell_type": "code",
   "execution_count": 8,
   "metadata": {},
   "outputs": [
    {
     "name": "stdout",
     "output_type": "stream",
     "text": [
      "H1_norm = 0.022192\r\n"
     ]
    }
   ],
   "source": [
    "%% H1 norm\n",
    "H1_norm=sqrt(I+I_der)"
   ]
  },
  {
   "cell_type": "markdown",
   "metadata": {},
   "source": [
    "## Numerical experiments:\n",
    "1) Examine changes of the resulting error of the numerical solution when changing N."
   ]
  },
  {
   "cell_type": "code",
   "execution_count": null,
   "metadata": {},
   "outputs": [],
   "source": []
  }
 ],
 "metadata": {
  "kernelspec": {
   "display_name": "Octave",
   "language": "octave",
   "name": "octave"
  },
  "language_info": {
   "file_extension": ".m",
   "help_links": [
    {
     "text": "GNU Octave",
     "url": "https://www.gnu.org/software/octave/support.html"
    },
    {
     "text": "Octave Kernel",
     "url": "https://github.com/Calysto/octave_kernel"
    },
    {
     "text": "MetaKernel Magics",
     "url": "https://metakernel.readthedocs.io/en/latest/source/README.html"
    }
   ],
   "mimetype": "text/x-octave",
   "name": "octave",
   "version": "6.2.0"
  }
 },
 "nbformat": 4,
 "nbformat_minor": 4
}
