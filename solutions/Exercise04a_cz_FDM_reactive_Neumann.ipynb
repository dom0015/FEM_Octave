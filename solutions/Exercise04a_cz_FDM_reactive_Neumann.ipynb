{
 "cells": [
  {
   "cell_type": "code",
   "execution_count": 10,
   "metadata": {},
   "outputs": [],
   "source": [
    "graphics_toolkit(\"gnuplot\"); % use if \"plot\" does not work"
   ]
  },
  {
   "cell_type": "markdown",
   "metadata": {},
   "source": [
    "## Řešení 1d úlohy s reaktivním členem pomocí metody konečných diferencí <br> (metoda sítí, finite differences method) \n",
    "### Neumannova okrajová podmínka\n",
    "\n",
    "Úkolem je vyřešit následující rovnici s reaktivním členem pomocí metody konečných diferencí. Tuto úlohu umíme řešit i analyticky. Získané numerické řešení tedy porovnejte s analytickým a ověřte, zda je numerická aproximace přesnější, když použijete jemnější mřížku (vyšší hodnotu parametru **n**)."
   ]
  },
  {
   "cell_type": "code",
   "execution_count": 6,
   "metadata": {},
   "outputs": [],
   "source": [
    "%% boundary value problem:\n",
    "%   -k*u''(x)+k0*u(x)=g\n",
    "%   u(0)=U\n",
    "%   -k*u'(L)=T"
   ]
  },
  {
   "cell_type": "markdown",
   "metadata": {},
   "source": [
    "Nastavení všech parametrů výše specifikované úlohy. <br> Začněte nejprve s těmito parametry a až úkol dokončíte, zkuste provádět jejich změny a zkoumat vliv na řešení úlohy."
   ]
  },
  {
   "cell_type": "code",
   "execution_count": 7,
   "metadata": {},
   "outputs": [],
   "source": [
    "k=1;\n",
    "k0=1; \n",
    "L=10;\n",
    "f=0; Uhat=1; g=f+k0*Uhat;\n",
    "U=0;\n",
    "T=-1;"
   ]
  },
  {
   "cell_type": "markdown",
   "metadata": {},
   "source": [
    "Řešte úlohu nejprve pomocí metody konečných diferencí, tj. doplňte chybějící příkazy (využijte nápovědu v komentářích):"
   ]
  },
  {
   "cell_type": "code",
   "execution_count": 8,
   "metadata": {},
   "outputs": [
    {
     "data": {
      "image/png": "[encoded data removed]",
      "text/plain": [
       "<IPython.core.display.Image object>"
      ]
     },
     "metadata": {},
     "output_type": "display_data"
    }
   ],
   "source": [
    "%% solution using finite diferences\n",
    "n=10;           % number of steps (discretization intervals)\n",
    "h=L/n;          % length of one step\n",
    "A=diag(ones(n-1,1),-1)-(2+k0*h^2/k)*diag(ones(n,1))+diag(ones(n-1,1),1); % matrix assembly\n",
    "b=-ones(n,1)*h^2*g/k; % right hand side\n",
    "b(1)=b(1)-U;    % Dirichlet boundary condition\n",
    "A(end,end)=A(end,end)+1; b(end)=b(end)+T/k*h; % Neumann b. c.\n",
    "u_FDM=A\\b;          % solution of the linear system\n",
    "u_FDM=[U; u_FDM];       % adding the left point (with Dirichlet b. c.)\n",
    "x_FDM=linspace(0,L,n+1); % points of visualization given by the discretization\n",
    "\n",
    "figure(1)\n",
    "plot(x_FDM,u_FDM) % plot of the numerical solution\n",
    "legend('FDM');\n",
    "grid on"
   ]
  },
  {
   "cell_type": "markdown",
   "metadata": {},
   "source": [
    "Pro srovnání vyřešte úlohu také analyticky. Analytické řešení vykreslete a porovnejte s numerickým:"
   ]
  },
  {
   "cell_type": "code",
   "execution_count": 9,
   "metadata": {},
   "outputs": [
    {
     "data": {
      "image/png": "[encoded data removed]",
      "text/plain": [
       "<IPython.core.display.Image object>"
      ]
     },
     "metadata": {},
     "output_type": "display_data"
    }
   ],
   "source": [
    "%% analytical solution\n",
    "K=sqrt(k0/k);\n",
    "C1=(T/k+(U-g/k0)*K*exp(K*L))/K/(exp(-K*L)+exp(K*L));\n",
    "C2=U-C1-g/k0;\n",
    "u_analytical=@(x)C1*exp(-K*x)+C2*exp(K*x)+g/k0;\n",
    "x_analytical=linspace(0,L,100);    % points of visualization\n",
    "\n",
    "figure(2);\n",
    "plot(x_FDM,u_FDM) % plot of the numerical solution\n",
    "hold on\n",
    "plot(x_analytical,u_analytical(x_analytical)) % plot of the analytical solution\n",
    "legend('FDM','analytical');\n",
    "grid on"
   ]
  },
  {
   "cell_type": "code",
   "execution_count": null,
   "metadata": {},
   "outputs": [],
   "source": []
  }
 ],
 "metadata": {
  "kernelspec": {
   "display_name": "Octave",
   "language": "octave",
   "name": "octave"
  },
  "language_info": {
   "file_extension": ".m",
   "help_links": [
    {
     "text": "GNU Octave",
     "url": "https://www.gnu.org/software/octave/support.html"
    },
    {
     "text": "Octave Kernel",
     "url": "https://github.com/Calysto/octave_kernel"
    },
    {
     "text": "MetaKernel Magics",
     "url": "https://metakernel.readthedocs.io/en/latest/source/README.html"
    }
   ],
   "mimetype": "text/x-octave",
   "name": "octave",
   "version": "6.1.0"
  }
 },
 "nbformat": 4,
 "nbformat_minor": 4
}
