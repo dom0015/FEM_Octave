{
 "cells": [
  {
   "cell_type": "code",
   "execution_count": 12,
   "metadata": {},
   "outputs": [],
   "source": [
    "graphics_toolkit(\"gnuplot\"); % use if \"plot\" does not work"
   ]
  },
  {
   "cell_type": "markdown",
   "metadata": {},
   "source": [
    "## Finite element method (FEM) in 2d\n",
    "### Anisotropic material + convection + reaction\n",
    "Solve the following 2d diffusion boundary value problem using linear finite elements."
   ]
  },
  {
   "cell_type": "code",
   "execution_count": 64,
   "metadata": {},
   "outputs": [],
   "source": [
    "%% 2d boundary value problem:\n",
    "%   -div(K(x)*grad(u(x))) + k0(x)u(x) + k1(x)*diff(u)/dx1 + k2(x)*diff(u)/dx2 = f(x) inside of the domain\n",
    "%   u(x)=U(x) at GammaD\n",
    "%   K(x)*(du/dn)(x)=g(x) at GammaN\n",
    "\n",
    "% parameters of anisotropic diffusion coefficient:\n",
    "alpha=pi/8; % axis\n",
    "D=diag([1 2]); % coefficients\n",
    "\n",
    "% parameters of source:\n",
    "Uhat = 5;\n",
    "k0_const = 10;\n",
    "k0 = @(x)0*x(:,1)+k0_const;\n",
    "f_const = 0;\n",
    "f_modif_const = f_const+k0_const*Uhat;\n",
    "\n",
    "% other parameters:\n",
    "k1 = @(x)0*x(:,1)+10;\n",
    "k2 = @(x)0*x(:,1)+10;\n",
    "f_modif = @(x)0*x(:,1)+f_modif_const;"
   ]
  },
  {
   "cell_type": "markdown",
   "metadata": {},
   "source": [
    "Consider rectangular domain $(0,L_1)\\times(0,L_2)$ and its regular triangulation, i.e. prepare input matrices NODE, ELEM. Also AREAS and CENTERS (area and center of gravity for each triangle) may be useful."
   ]
  },
  {
   "cell_type": "code",
   "execution_count": 65,
   "metadata": {},
   "outputs": [],
   "source": [
    "%% example: preparation of a simple network\n",
    "%  triangulation of a rectangular domain (0,L1)x(0,L2)\n",
    "nx=30; ny=30;\n",
    "L1=1; L2=1;\n",
    "[coords1,coords2]=meshgrid(linspace(0,L1,nx),linspace(0,L2,ny)); % meshgrid\n",
    "coords1=coords1(:); coords2=coords2(:);\n",
    "NODE=[coords1 coords2];\n",
    "n_NODE=size(NODE,1);\n",
    "ELEM=rectangle_triangulation(nx,ny);\n",
    "n_ELEM=size(ELEM,1);\n",
    "AREAS=polyarea(coords1(ELEM),coords2(ELEM),2);\n",
    "CENTERS=[mean(coords1(ELEM),2),mean(coords2(ELEM),2)];"
   ]
  },
  {
   "cell_type": "markdown",
   "metadata": {},
   "source": [
    "Preparation of boundary conditions and material inputs:"
   ]
  },
  {
   "cell_type": "code",
   "execution_count": 66,
   "metadata": {},
   "outputs": [],
   "source": [
    "%% boundary conditions inputs\n",
    "DBOUNDARY=((coords1==0)|(coords1==1)|(coords2==0)|(coords2==1));\n",
    "DVALUE=zeros(sum(DBOUNDARY),1); % values of U(x) in boundary nodes\n",
    "NBOUNDARY=[];    \n",
    "NVALUE=ones(size(NBOUNDARY,1),1); % values of g(x) on boundary edges!\n",
    "FREENODE=true(n_NODE,1); FREENODE(DBOUNDARY)=false;\n",
    "\n",
    "%% other input data\n",
    "U=[cos(alpha) sin(-alpha); sin(alpha) cos(-alpha)];\n",
    "K=U*D*U';\n",
    "MATERIALS=ones(n_ELEM,1)*reshape(U*D*U',1,4); % anisotropic diffusion coefficient\n",
    "MATERIALS0=k0(CENTERS); % coefficient of reactive term\n",
    "MATERIALS1=k1(CENTERS); % coefficient of convection in x1 direction\n",
    "MATERIALS2=k2(CENTERS); % coefficient of convection in x2 direction\n",
    "SOURCE=f_modif(CENTERS); % source term"
   ]
  },
  {
   "cell_type": "markdown",
   "metadata": {},
   "source": [
    "Construct FEM matrix and right hand side vector using local matrices and vectors:"
   ]
  },
  {
   "cell_type": "code",
   "execution_count": 67,
   "metadata": {},
   "outputs": [],
   "source": [
    "%% construction of global matrix and rhs\n",
    "A=zeros(n_NODE);\n",
    "b=zeros(n_NODE,1);\n",
    "for i=1:n_ELEM\n",
    "\n",
    "    % local \"stiffness\" matrix\n",
    "    x=NODE(ELEM(i,:),:);\n",
    "    B_=[x(2,2)-x(3,2) x(3,2)-x(1,2) x(1,2)-x(2,2);\n",
    "        x(3,1)-x(2,1) x(1,1)-x(3,1) x(2,1)-x(1,1)];\n",
    "    A_local=(B_')*reshape(MATERIALS(i,:),2,2)*B_/4/AREAS(i);\n",
    "    \n",
    "    % local \"mass\" matrix\n",
    "    J=abs(2*AREAS(i));\n",
    "    M_local=J*MATERIALS0(i)*[2 1 1; 1 2 1; 1 1 2]/24;\n",
    "    \n",
    "    % local matrix for convection in x1 direction\n",
    "    DF=[x(2,1)-x(1,1) x(3,1)-x(1,1);\n",
    "    x(2,2)-x(1,2) x(3,2)-x(1,2)];\n",
    "    tmp=[-1 1 0; -1 0 1]'*inv(DF);\n",
    "    P1_local=J*MATERIALS1(i)*tmp(:,1)*[1 1 1]/6;\n",
    "    \n",
    "    % local matrix for convection in x2 direction\n",
    "    P2_local=J*MATERIALS2(i)*tmp(:,2)*[1 1 1]/6;\n",
    "    \n",
    "    % add local matrices to the global matrix\n",
    "    A(ELEM(i,:),ELEM(i,:))=A(ELEM(i,:),ELEM(i,:))+A_local+M_local+P1_local+P2_local;\n",
    "    \n",
    "    % add local rhs\n",
    "    b_local=SOURCE(i)*AREAS(i)/3;\n",
    "    b(ELEM(i,:))=b(ELEM(i,:))+b_local;\n",
    "end"
   ]
  },
  {
   "cell_type": "markdown",
   "metadata": {},
   "source": [
    "Eliminate unknowns corresponding to Dirichlet nodes, modify the r. h. s. vector according to Neumann boundary conditions, and solve the resulting linear system:"
   ]
  },
  {
   "cell_type": "code",
   "execution_count": 68,
   "metadata": {},
   "outputs": [],
   "source": [
    "%% modifications due to boundary conditions\n",
    "u=zeros(n_NODE,1);\n",
    "u(DBOUNDARY)=DVALUE;\n",
    "b=b-A*u;\n",
    "for i=1:length(NVALUE)\n",
    "    x=NODE(NBOUNDARY(i,:),:);\n",
    "    b(NBOUNDARY(i,:))=b(NBOUNDARY(i,:))+1/2*norm(x(2,:)-x(1,:))*NVALUE(i);\n",
    "end"
   ]
  },
  {
   "cell_type": "markdown",
   "metadata": {},
   "source": [
    "Plot solution:"
   ]
  },
  {
   "cell_type": "code",
   "execution_count": 69,
   "metadata": {
    "scrolled": false
   },
   "outputs": [
    {
     "data": {
      "image/png": "[encoded data removed]",
      "text/plain": [
       "<IPython.core.display.Image object>"
      ]
     },
     "metadata": {},
     "output_type": "display_data"
    }
   ],
   "source": [
    "%% solution of the resulting linear system and visualization\n",
    "u(FREENODE)=A(FREENODE,FREENODE)\\b(FREENODE);\n",
    "figure; \n",
    "#trimesh(ELEM,coords1,coords2,u);\n",
    "imagesc([0,L1],[0,L2],reshape(u,nx,ny));\n",
    "set(gca,'YDir','normal')\n",
    "colorbar()"
   ]
  }
 ],
 "metadata": {
  "kernelspec": {
   "display_name": "Octave",
   "language": "octave",
   "name": "octave"
  },
  "language_info": {
   "file_extension": ".m",
   "help_links": [
    {
     "text": "GNU Octave",
     "url": "https://www.gnu.org/software/octave/support.html"
    },
    {
     "text": "Octave Kernel",
     "url": "https://github.com/Calysto/octave_kernel"
    },
    {
     "text": "MetaKernel Magics",
     "url": "https://metakernel.readthedocs.io/en/latest/source/README.html"
    }
   ],
   "mimetype": "text/x-octave",
   "name": "octave",
   "version": "6.2.0"
  }
 },
 "nbformat": 4,
 "nbformat_minor": 4
}
