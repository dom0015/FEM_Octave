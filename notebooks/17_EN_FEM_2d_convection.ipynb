{
 "cells": [
  {
   "cell_type": "code",
   "execution_count": null,
   "metadata": {},
   "outputs": [],
   "source": [
    "graphics_toolkit(\"gnuplot\"); % use if \"plot\" does not work"
   ]
  },
  {
   "cell_type": "markdown",
   "metadata": {},
   "source": [
    "## Finite element method (FEM) in 2d\n",
    "### Convection\n",
    "Solve the following 2d diffusion boundary value problem using linear finite elements."
   ]
  },
  {
   "cell_type": "code",
   "execution_count": null,
   "metadata": {},
   "outputs": [],
   "source": [
    "%% 2d boundary value problem:\n",
    "%   -div(k(x)*grad(u(x))) + k1(x)*diff(u)/dx1 + k2(x)*diff(u)/dx2 = f(x) inside of the domain\n",
    "%   u(x)=U(x) at GammaD\n",
    "%   k(x)*(du/dn)(x)=g(x) at GammaN\n",
    "\n",
    "% parameters of diffusion:\n",
    "k_const = 1;\n",
    "k = @(x)0*x(:,1)+k_const;\n",
    "\n",
    "% parameters of source:\n",
    "f_const = 0.1;\n",
    "f = @(x)0*x(:,1)+f_const;\n",
    "\n",
    "% parameters of convection:\n",
    "k1 = @(x)0*x(:,1)-1;\n",
    "k2 = @(x)0*x(:,1)+10;"
   ]
  },
  {
   "cell_type": "markdown",
   "metadata": {},
   "source": [
    "Consider rectangular domain $(0,L_1)\\times(0,L_2)$ and its regular triangulation, i.e. prepare input matrices NODE, ELEM. Also AREAS and CENTERS (area and center of gravity for each triangle) may be useful."
   ]
  },
  {
   "cell_type": "code",
   "execution_count": null,
   "metadata": {},
   "outputs": [],
   "source": [
    "%% example: preparation of a simple network\n",
    "%  triangulation of a rectangular domain (0,L1)x(0,L2)\n",
    "n1=30; n2=30;\n",
    "L1=1; L2=1;\n",
    "[coords1,coords2]=meshgrid(linspace(0,L1,n1),linspace(0,L2,n2)); % meshgrid\n",
    "coords1=coords1(:); coords2=coords2(:);\n",
    "NODE=[coords1 coords2];\n",
    "n_NODE=size(NODE,1);\n",
    "ELEM=rectangle_triangulation(n1,n2);\n",
    "n_ELEM=size(ELEM,1);\n",
    "AREAS=polyarea(coords1(ELEM),coords2(ELEM),2);\n",
    "CENTERS=[mean(coords1(ELEM),2),mean(coords2(ELEM),2)];"
   ]
  },
  {
   "cell_type": "markdown",
   "metadata": {},
   "source": [
    "Preparation of boundary conditions and material inputs:"
   ]
  },
  {
   "cell_type": "code",
   "execution_count": null,
   "metadata": {},
   "outputs": [],
   "source": [
    "%% boundary conditions inputs\n",
    "DBOUNDARY=((coords1==0)|(coords1==L1)|(coords2==0)|(coords2==L2));\n",
    "DVALUE=zeros(sum(DBOUNDARY),1); % values of U(x) in boundary nodes\n",
    "NBOUNDARY=[];    \n",
    "NVALUE=ones(size(NBOUNDARY,1),1); % values of g(x) on boundary edges!\n",
    "FREENODE=true(n_NODE,1); FREENODE(DBOUNDARY)=false;\n",
    "\n",
    "%% other input data\n",
    "MATERIALS=k(CENTERS); % diffusion coefficient\n",
    "MATERIALS1=k1(CENTERS); % coefficient of convection in x1 direction\n",
    "MATERIALS2=k2(CENTERS); % coefficient of convection in x2 direction\n",
    "SOURCE=f(CENTERS); % source term"
   ]
  },
  {
   "cell_type": "markdown",
   "metadata": {},
   "source": [
    "Construct FEM matrix and right hand side vector using local matrices and vectors:"
   ]
  },
  {
   "cell_type": "code",
   "execution_count": null,
   "metadata": {},
   "outputs": [],
   "source": [
    "%% construction of global matrix and rhs\n",
    "A=zeros(n_NODE);\n",
    "b=zeros(n_NODE,1);\n",
    "for i=1:n_ELEM\n",
    "\n",
    "    % local \"stiffness\" matrix\n",
    "    x=NODE(ELEM(i,:),:);\n",
    "    B_=[x(2,2)-x(3,2) x(3,2)-x(1,2) x(1,2)-x(2,2);\n",
    "        x(3,1)-x(2,1) x(1,1)-x(3,1) x(2,1)-x(1,1)];\n",
    "    A_local=MATERIALS(i)*(B_')*B_/4/AREAS(i);\n",
    "    \n",
    "    % local matrix for convection in x1 direction\n",
    "    DF=[x(2,1)-x(1,1) x(3,1)-x(1,1);\n",
    "    x(2,2)-x(1,2) x(3,2)-x(1,2)];\n",
    "    B=[-1 1 0; -1 0 1]'*inv(DF);\n",
    "    J=abs(2*AREAS(i));\n",
    "    P1_local=J*MATERIALS1(i)*B(:,1)*[1 1 1]/6;\n",
    "    \n",
    "    % local matrix for convection in x2 direction\n",
    "    P2_local=J*MATERIALS2(i)*B(:,2)*[1 1 1]/6;\n",
    "    \n",
    "    % add local matrices to the global matrix\n",
    "    A(ELEM(i,:),ELEM(i,:))=A(ELEM(i,:),ELEM(i,:))+A_local+P1_local+P2_local;\n",
    "    \n",
    "    % add local rhs\n",
    "    b_local=SOURCE(i)*AREAS(i)/3;\n",
    "    b(ELEM(i,:))=b(ELEM(i,:))+b_local;\n",
    "end"
   ]
  },
  {
   "cell_type": "markdown",
   "metadata": {},
   "source": [
    "Eliminate unknowns corresponding to Dirichlet nodes, modify the r. h. s. vector according to Neumann boundary conditions, and solve the resulting linear system:"
   ]
  },
  {
   "cell_type": "code",
   "execution_count": null,
   "metadata": {},
   "outputs": [],
   "source": [
    "%% modifications due to boundary conditions\n",
    "u=zeros(n_NODE,1);\n",
    "u(DBOUNDARY)=DVALUE;\n",
    "b=b-A*u;\n",
    "for i=1:length(NVALUE)\n",
    "    x=NODE(NBOUNDARY(i,:),:);\n",
    "    b(NBOUNDARY(i,:))=b(NBOUNDARY(i,:))+1/2*norm(x(2,:)-x(1,:))*NVALUE(i);\n",
    "end"
   ]
  },
  {
   "cell_type": "markdown",
   "metadata": {},
   "source": [
    "Plot solution:"
   ]
  },
  {
   "cell_type": "code",
   "execution_count": null,
   "metadata": {
    "scrolled": false
   },
   "outputs": [],
   "source": [
    "%% solution of the resulting linear system and visualization\n",
    "u(FREENODE)=A(FREENODE,FREENODE)\\b(FREENODE);\n",
    "figure; \n",
    "#trimesh(ELEM,coords1,coords2,u);\n",
    "imagesc([0,L1],[0,L2],reshape(u,n1,n2));\n",
    "set(gca,'YDir','normal')\n",
    "colorbar()"
   ]
  }
 ],
 "metadata": {
  "kernelspec": {
   "display_name": "Octave",
   "language": "octave",
   "name": "octave"
  },
  "language_info": {
   "file_extension": ".m",
   "help_links": [
    {
     "text": "GNU Octave",
     "url": "https://www.gnu.org/software/octave/support.html"
    },
    {
     "text": "Octave Kernel",
     "url": "https://github.com/Calysto/octave_kernel"
    },
    {
     "text": "MetaKernel Magics",
     "url": "https://metakernel.readthedocs.io/en/latest/source/README.html"
    }
   ],
   "mimetype": "text/x-octave",
   "name": "octave",
   "version": "6.4.0"
  }
 },
 "nbformat": 4,
 "nbformat_minor": 4
}
