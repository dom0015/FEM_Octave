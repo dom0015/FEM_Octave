{
 "cells": [
  {
   "cell_type": "code",
   "execution_count": null,
   "metadata": {},
   "outputs": [],
   "source": [
    "graphics_toolkit(\"gnuplot\"); % use if \"plot\" does not work"
   ]
  },
  {
   "cell_type": "markdown",
   "metadata": {},
   "source": [
    "## Analytical solution\n",
    "Diffusion in 1d + adding reactive term and convective term <br>\n",
    "Dirichlet boundary value problem\n",
    "## Tasks:\n",
    "1) Solve the following problems analytically. <br>\n",
    "2) Plot solutions. <br>\n",
    "3) Try changing input parameters ($L,f,k,U_0,U_L,\\ldots$)."
   ]
  },
  {
   "cell_type": "code",
   "execution_count": null,
   "metadata": {},
   "outputs": [],
   "source": [
    "%% Diffusion with Dirichlet boundary conditions\n",
    "%   -k*u''(x)=f     in (0,L)\n",
    "%        u(0)=U0\n",
    "%        u(L)=UL\n",
    "L=10;\n",
    "f=0.2;                  % sources (constant in whole domain\n",
    "k=1;                    % material parameter (e.g. conductivity)\n",
    "U0=0;\n",
    "UL=0;\n",
    "u=@(x)-f/(2*k)*x.^2+f*L*x/(2*k)+(UL-U0)*x/L+U0; % analytical solution"
   ]
  },
  {
   "cell_type": "markdown",
   "metadata": {},
   "source": [
    "Let's plot the solution."
   ]
  },
  {
   "cell_type": "code",
   "execution_count": null,
   "metadata": {},
   "outputs": [],
   "source": [
    "solution_items={u}; % create cell of solution handles\n",
    "legend_items={'diffusion Dirichlet'}; % create cell of legends\n",
    "x=linspace(0,L,100); % points of visualization"
   ]
  },
  {
   "cell_type": "markdown",
   "metadata": {},
   "source": [
    "Plotting function:"
   ]
  },
  {
   "cell_type": "code",
   "execution_count": null,
   "metadata": {},
   "outputs": [],
   "source": [
    "function plot_solutions(x,sol,leg)\n",
    "    figure; hold on\n",
    "    for i=1:length(sol)\n",
    "        plot(x,sol{i}(x))\n",
    "    end\n",
    "    legend(leg);   % show legend\n",
    "    grid on\n",
    "    xlabel('x')\n",
    "    ylabel('u(x)')\n",
    "end"
   ]
  },
  {
   "cell_type": "code",
   "execution_count": null,
   "metadata": {
    "scrolled": false
   },
   "outputs": [],
   "source": [
    "%plot native\n",
    "plot_solutions(x,solution_items,legend_items)"
   ]
  },
  {
   "cell_type": "code",
   "execution_count": null,
   "metadata": {},
   "outputs": [],
   "source": [
    "%% Diffusion with Dirichlet boundary conditions + reaction\n",
    "%   -k*u''(x)+k0*u(x)=g     in (0,L)\n",
    "%                u(0)=U0\n",
    "%                u(L)=UL\n",
    "k0=2;       % EXAMINE EFFECT OF CHANGING THIS CONSTANT\n",
    "Uhat=1.5;   % EXAMINE EFFECT OF CHANGING THIS CONSTANT\n",
    "g=f+k0*Uhat;\n",
    "% analytical solution:\n",
    "K=sqrt(k0/k);\n",
    "gk=g/k0;\n",
    "C1=\n",
    "C2=\n",
    "u=@(x)\n",
    "\n",
    "solution_items{end+1}=u;\n",
    "legend_items{end+1}='d.+reaction Dirichlet'; % append legend\n",
    "plot_solutions(x,solution_items,legend_items)"
   ]
  },
  {
   "cell_type": "code",
   "execution_count": null,
   "metadata": {},
   "outputs": [],
   "source": [
    "%% Diffusion with Dirichlet boundary conditions + convection\n",
    "%   -k*u''(x)+D*u'(x)=f     in (0,L)\n",
    "%                u(0)=U\n",
    "%                u(L)=UL\n",
    "D=0.5; % EXAMINE EFFECT OF CHANGING THIS CONSTANT\n",
    "% analytical solution:\n",
    "C2=\n",
    "C1=\n",
    "u=@(x)\n",
    "\n",
    "solution_items{end+1}=u;\n",
    "legend_items{end+1}='d.+convection (+) Dirichlet'; % append legend\n",
    "plot_solutions(x,solution_items,legend_items)"
   ]
  },
  {
   "cell_type": "code",
   "execution_count": null,
   "metadata": {},
   "outputs": [],
   "source": [
    "%% Diffusion with Dirichlet boundary conditions + convection\n",
    "%   -k*u''(x)+D*u'(x)=f     in (0,L)\n",
    "%                u(0)=U\n",
    "%                u(L)=UL\n",
    "D=-0.5; % EXAMINE EFFECT OF CHANGING THIS CONSTANT\n",
    "% analytical solution:\n",
    "C2=\n",
    "C1=\n",
    "u=@(x)\n",
    "\n",
    "solution_items{end+1}=u;\n",
    "legend_items{end+1}='d.+convection (-) Dirichlet';  % append legend\n",
    "plot_solutions(x,solution_items,legend_items)"
   ]
  },
  {
   "cell_type": "code",
   "execution_count": null,
   "metadata": {},
   "outputs": [],
   "source": []
  }
 ],
 "metadata": {
  "kernelspec": {
   "display_name": "Octave",
   "language": "octave",
   "name": "octave"
  },
  "language_info": {
   "file_extension": ".m",
   "help_links": [
    {
     "text": "GNU Octave",
     "url": "https://www.gnu.org/software/octave/support.html"
    },
    {
     "text": "Octave Kernel",
     "url": "https://github.com/Calysto/octave_kernel"
    },
    {
     "text": "MetaKernel Magics",
     "url": "https://metakernel.readthedocs.io/en/latest/source/README.html"
    }
   ],
   "mimetype": "text/x-octave",
   "name": "octave",
   "version": "6.4.0"
  }
 },
 "nbformat": 4,
 "nbformat_minor": 4
}
