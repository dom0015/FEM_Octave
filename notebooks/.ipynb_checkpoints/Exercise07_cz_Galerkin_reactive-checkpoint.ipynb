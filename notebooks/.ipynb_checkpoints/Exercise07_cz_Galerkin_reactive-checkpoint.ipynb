{
 "cells": [
  {
   "cell_type": "code",
   "execution_count": null,
   "metadata": {},
   "outputs": [],
   "source": [
    "graphics_toolkit(\"gnuplot\"); % use if \"plot\" does not work"
   ]
  },
  {
   "cell_type": "markdown",
   "metadata": {},
   "source": [
    "## Řešení 1d úlohy s reaktivním členem pomocí Galerkinovy metody s polynomiální bází\n",
    "\n",
    "Úkolem je vyřešit následující okrajovou úlohu pomocí Galerkinovy metody s polynomiální bází. Tuto úlohu umíme řešit i analyticky a již jsme ji řešili také metodou konečných diferencí. Toto řešení tedy můžete porovnat s dříve získanými. "
   ]
  },
  {
   "cell_type": "code",
   "execution_count": null,
   "metadata": {},
   "outputs": [],
   "source": [
    "% plot of the numerical solution\n",
    "%   -k*u''(x)+k0*u(x)=g\n",
    "%   u(0)=U\n",
    "%   -k*u'(l)=T"
   ]
  },
  {
   "cell_type": "markdown",
   "metadata": {},
   "source": [
    "Nastavení všech parametrů výše specifikované úlohy. <br> Začněte nejprve s těmito parametry a až úkol dokončíte, zkuste provádět jejich změny a zkoumat vliv na řešení úlohy."
   ]
  },
  {
   "cell_type": "code",
   "execution_count": null,
   "metadata": {},
   "outputs": [],
   "source": [
    "k=1;\n",
    "k0=1; \n",
    "L=10;\n",
    "f=0; Uhat=1; g=f+k0*Uhat;\n",
    "U=0;\n",
    "T=-1;"
   ]
  },
  {
   "cell_type": "markdown",
   "metadata": {},
   "source": [
    "Můžeme použít polynomiální bázi o libovolné velikosti. Pro jednoduchost začneme bází $ \\{ 1,x,x^2,x^3 \\} $. Konstantní polynom použijeme k \"zakódování\" Dirichletovy okrajové podmínky. Výsledná soustava tedy bude mít velikost $3 \\times 3$. <br>\n",
    "Hledáme tedy řešení ve tvaru\n",
    "$ U+\\alpha_1 \\cdot x + \\alpha_2 \\cdot x^2 + \\alpha_3 \\cdot x^3 $."
   ]
  },
  {
   "cell_type": "code",
   "execution_count": null,
   "metadata": {},
   "outputs": [],
   "source": [
    "% Galerkin method with polynomial basis up to x^3\n",
    "A=[ k*L+k0*L^3/3         k*L^2+k0*L^4/4       k*L^3+k0*L^5/5\n",
    "    k*L^2+k0*L^4/4       4/3*k*L^3+k0*L^5/5   3/2*k*L^4+k0*L^6/6\n",
    "    k*L^3+k0*L^5/5       3/2*k*L^4+k0*L^6/6   9/5*k*L^5+k0*L^7/7];\n",
    "b=[ 1/2*g*L^2 - T*L\n",
    "    1/3*g*L^3 - T*L^2\n",
    "    1/4*g*L^4 - T*L^3];\n",
    "alfa=A\\b;\n",
    "disp(alfa);\n",
    "u_G=@(x)U+alfa(1)*x+alfa(2)*x.^2+alfa(3)*x.^3;\n",
    "x_G=linspace(0,L,100);    % points of visualization\n",
    "figure(1)\n",
    "plot(x_G,u_G(x_G)) % plot of the Galerkin solution\n",
    "legend('Galerkin (3)');\n",
    "grid on"
   ]
  },
  {
   "cell_type": "markdown",
   "metadata": {},
   "source": [
    "Úlohu vyřešíme také analyticky, vykreslíme a porovnáme:"
   ]
  },
  {
   "cell_type": "code",
   "execution_count": null,
   "metadata": {
    "scrolled": true
   },
   "outputs": [],
   "source": [
    "%% analytical solution\n",
    "K=sqrt(k0/k);\n",
    "C1=(T/k+(U-g/k0)*K*exp(K*L))/K/(exp(-K*L)+exp(K*L));\n",
    "C2=U-C1-g/k0;\n",
    "u_analytical=@(x)C1*exp(-K*x)+C2*exp(K*x)+g/k0;\n",
    "\n",
    "figure(2)\n",
    "plot(x_G,u_G(x_G)) % plot of the Galerkin solution\n",
    "hold on\n",
    "plot(x_G,u_analytical(x_G)) % plot of the analytical solution\n",
    "legend('Galerkin (3)','analytical');\n",
    "grid on"
   ]
  },
  {
   "cell_type": "markdown",
   "metadata": {},
   "source": [
    "## Další úkoly:\n",
    "1) Náš kód můžeme opět zobecnit a uvažovat bázi o libovoném počtu polynomů, tj. budeme hledat řešení ve tvaru\n",
    "$ U+\\alpha_1 \\cdot x + \\alpha_2 \\cdot x^2 + \\alpha_3 \\cdot x^3 + \\cdots $. <br> \n",
    "2) Volte nejprve $n=3$ a oveřte, že jste dostali stejné řešení. <br>\n",
    "3) Volte vyšší hodnoty $n$ a zjistěte, zda se řešení zpřesňuje. <br>\n",
    "4) Navrhněte i jiné způsoby, jak zjistit, zda se řešení zpřesňuje (jiné než vizuální posouzení)."
   ]
  },
  {
   "cell_type": "code",
   "execution_count": null,
   "metadata": {},
   "outputs": [],
   "source": [
    "%% reseni Galerkinovou metodou\n",
    "n=3;    % pocet polynomu x,x^2,...\n",
    "A=zeros(n);\n",
    "A0=zeros(n);\n",
    "b=zeros(n,1);\n",
    "for i=1:n\n",
    "    for j=1:n\n",
    "        A(i,j)=k*i*j/(i+j-1)*L^(i+j-1);\n",
    "        A0(i,j)=k0/(i+j+1)*L^(i+j+1);\n",
    "    end\n",
    "    b(i)=g/(i+1)*L^(i+1)-T*L^i;\n",
    "end\n",
    "alfa=(A+A0)\\b;\n",
    "disp(alfa);\n",
    "\n",
    "u_G=@(x)U;\n",
    "for i=1:n\n",
    "    u_G = @(x) u_G(x) + alfa(i)*x.^i;\n",
    "end\n",
    "x_G=linspace(0,L,100);    % points of visualization\n",
    "\n",
    "figure(3)\n",
    "plot(x_G,u_G(x_G)) % plot of the Galerkin solution\n",
    "hold on\n",
    "plot(x_G,u_analytical(x_G)) % plot of the analytical solution\n",
    "legend('Galerkin (3)','analytical');\n",
    "grid on"
   ]
  },
  {
   "cell_type": "code",
   "execution_count": null,
   "metadata": {},
   "outputs": [],
   "source": []
  }
 ],
 "metadata": {
  "kernelspec": {
   "display_name": "Octave",
   "language": "octave",
   "name": "octave"
  },
  "language_info": {
   "file_extension": ".m",
   "help_links": [
    {
     "text": "GNU Octave",
     "url": "https://www.gnu.org/software/octave/support.html"
    },
    {
     "text": "Octave Kernel",
     "url": "https://github.com/Calysto/octave_kernel"
    },
    {
     "text": "MetaKernel Magics",
     "url": "https://metakernel.readthedocs.io/en/latest/source/README.html"
    }
   ],
   "mimetype": "text/x-octave",
   "name": "octave",
   "version": "6.4.0"
  }
 },
 "nbformat": 4,
 "nbformat_minor": 4
}
