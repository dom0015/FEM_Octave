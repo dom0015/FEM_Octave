{
 "cells": [
  {
   "cell_type": "code",
   "execution_count": null,
   "metadata": {},
   "outputs": [],
   "source": [
    "graphics_toolkit(\"gnuplot\"); % use if \"plot\" does not work"
   ]
  },
  {
   "cell_type": "markdown",
   "metadata": {},
   "source": [
    "## Řešení 1d úlohy s konvektivním členem pomocí Galerkinovy metody s polynomiální bází\n",
    "\n",
    "Úkolem je vyřešit následující okrajovou úlohu pomocí Galerkinovy metody s polynomiální bází. Tuto úlohu umíme řešit i analyticky a již jsme ji řešili také metodou konečných diferencí. Toto řešení tedy můžete porovnat s dříve získanými. "
   ]
  },
  {
   "cell_type": "code",
   "execution_count": null,
   "metadata": {},
   "outputs": [],
   "source": [
    "%% boundary value problem\n",
    "%   -k*u''(x)+D*u'(x)=f\n",
    "%   u(0)=U\n",
    "%   -k*u'(l)=T\n",
    "\n",
    "f=10;\n",
    "k=3;\n",
    "L=5;\n",
    "D=10;\n",
    "U=2;\n",
    "T=1.5;\n",
    "\n",
    "%% analytical solution\n",
    "C2=(-T/k-f/D)/(D/k*exp(D*L/k));\n",
    "C1=U-C2;\n",
    "u_analytical=@(x)C1+C2*exp(D/k*x)+f/D*x;\n",
    "\n",
    "%% Galerkin solution\n",
    "n=3;    % maximal polynomial degree\n",
    "A=zeros(n);\n",
    "A1=zeros(n);\n",
    "b=zeros(n,1);\n",
    "for i=1:n\n",
    "    for j=1:n\n",
    "        A(i,j)=k*i*j/(i+j-1)*L^(i+j-1);\n",
    "        A1(i,j)=D*j/(i+j)*L^(i+j);\n",
    "    end\n",
    "    b(i)=f/(i+1)*L^(i+1)-T*L^i;\n",
    "end\n",
    "alfa=(A+A1)\\b;\n",
    "\n",
    "u_G=@(x)U;\n",
    "for i=1:n\n",
    "    u_G = @(x) u_G(x) + alfa(i)*x.^i;\n",
    "end\n",
    "x_G=linspace(0,L,100);    % points of visualization\n",
    "\n",
    "figure;\n",
    "plot(x_G,u_G(x_G)) % plot of the Galerkin solution\n",
    "hold on\n",
    "plot(x_G,u_analytical(x_G)) % plot of the analytical solution\n",
    "legend('Galerkin (3)','analytical');\n",
    "grid on"
   ]
  },
  {
   "cell_type": "code",
   "execution_count": null,
   "metadata": {},
   "outputs": [],
   "source": []
  }
 ],
 "metadata": {
  "kernelspec": {
   "display_name": "Octave",
   "language": "octave",
   "name": "octave"
  },
  "language_info": {
   "file_extension": ".m",
   "help_links": [
    {
     "text": "GNU Octave",
     "url": "https://www.gnu.org/software/octave/support.html"
    },
    {
     "text": "Octave Kernel",
     "url": "https://github.com/Calysto/octave_kernel"
    },
    {
     "text": "MetaKernel Magics",
     "url": "https://metakernel.readthedocs.io/en/latest/source/README.html"
    }
   ],
   "mimetype": "text/x-octave",
   "name": "octave",
   "version": "6.4.0"
  }
 },
 "nbformat": 4,
 "nbformat_minor": 4
}
