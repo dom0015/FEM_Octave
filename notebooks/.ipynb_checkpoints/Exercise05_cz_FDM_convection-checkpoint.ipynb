{
 "cells": [
  {
   "cell_type": "code",
   "execution_count": null,
   "metadata": {},
   "outputs": [],
   "source": [
    "graphics_toolkit(\"gnuplot\"); % use if \"plot\" does not work"
   ]
  },
  {
   "cell_type": "markdown",
   "metadata": {},
   "source": [
    "## Řešení 1d úlohy s konvektivním členem pomocí metody konečných diferencí <br> (metoda sítí, finite differences method) \n",
    "\n",
    "Úkolem je vyřešit následující okrajovou úlohu pomocí metody konečných diferencí. Tuto úlohu umíme řešit i analyticky. Získané numerické řešení tedy porovnejte s analytickým a ověřte, zda je numerická aproximace přesnější, když použijete jemnější mřížku (vyšší hodnotu parametru **n**)."
   ]
  },
  {
   "cell_type": "code",
   "execution_count": null,
   "metadata": {},
   "outputs": [],
   "source": [
    "% plot of the numerical solution\n",
    "%   -k*u''(x)+D*u'(x)=f\n",
    "%   u(0)=U\n",
    "%   -k*u'(l)=T"
   ]
  },
  {
   "cell_type": "markdown",
   "metadata": {},
   "source": [
    "Nastavení všech parametrů výše specifikované úlohy. <br> Začněte nejprve s těmito parametry a až úkol dokončíte, zkuste provádět jejich změny a zkoumat vliv na řešení úlohy."
   ]
  },
  {
   "cell_type": "code",
   "execution_count": null,
   "metadata": {},
   "outputs": [],
   "source": [
    "f=1;\n",
    "k=1;\n",
    "L=1;\n",
    "D=10;\n",
    "U=1;\n",
    "T=-0.5;"
   ]
  },
  {
   "cell_type": "markdown",
   "metadata": {},
   "source": [
    "Řešte úlohu nejprve pomocí metody konečných diferencí. Níže máme nastavení parametrů sítě."
   ]
  },
  {
   "cell_type": "code",
   "execution_count": null,
   "metadata": {},
   "outputs": [],
   "source": [
    "%% solution using finite diferences (system of size (n+1)x(n+1) including Dirichlet b.c.)\n",
    "n=10;           % number of steps (discretization intervals)\n",
    "h=L/n;          % length of one step"
   ]
  },
  {
   "cell_type": "markdown",
   "metadata": {},
   "source": [
    "Zde máme na výběr 3 možnosti aproximace konvektivního členu $D \\cdot u'(x)$\n",
    "- pomocí centrálních diferencí (central)\n",
    "- pomocí dopředných diferencí (down-stream)\n",
    "- pomocí zpětných diferencí (up-stream)\n",
    "\n",
    "Začněme například zpětnými diferencemi:"
   ]
  },
  {
   "cell_type": "code",
   "execution_count": null,
   "metadata": {},
   "outputs": [],
   "source": [
    "%  using up-stream differences\n",
    "A=(1+h*D/(k))*diag(ones(n,1),-1)-(2+D*h/k)*diag(ones(n+1,1))+(1)*diag(ones(n,1),1); % matrix assembly\n",
    "b=-ones(n+1,1)*h^2*f/k; % right hand side\n",
    "b(1)=U; A(1,1)=1; A(1,2)=0;     % Dirichlet boundary condition\n",
    "b(end)=b(end)+T*h/k;            % Neumann b. c.\n",
    "A(end,end)=A(end,end)+1;        % Neumann b. c.\n",
    "u_FDM_up=A\\b;          % solution of the linear system\n",
    "x_FDM=linspace(0,L,n+1); % points of visualization given by the discretization\n",
    "\n",
    "figure(1)\n",
    "plot(x_FDM,u_FDM_up) % plot of the numerical solution\n",
    "legend('FDM up');\n",
    "grid on"
   ]
  },
  {
   "cell_type": "markdown",
   "metadata": {},
   "source": [
    "Pro srovnání vyřešíme úlohu také analyticky. Analytické řešení vykreslete a porovnejte s numerickým:"
   ]
  },
  {
   "cell_type": "code",
   "execution_count": null,
   "metadata": {},
   "outputs": [],
   "source": [
    "%% analytical solution\n",
    "C2=(-T/k-f/D)/(D/k*exp(D*L/k));\n",
    "C1=U-C2;\n",
    "u_analytical=@(x)C1+C2*exp(D/k*x)+f/D*x;\n",
    "x_analytical=linspace(0,L,100);        % points of visualization\n",
    "\n",
    "figure(2)\n",
    "plot(x_FDM,u_FDM_up) % plot of the numerical solution\n",
    "hold on\n",
    "plot(x_analytical,u_analytical(x_analytical)) % plot of the analytical solution\n",
    "legend('FDM up','analytical');\n",
    "grid on"
   ]
  },
  {
   "cell_type": "markdown",
   "metadata": {},
   "source": [
    "## Další úkoly:\n",
    "1) Přidejte k předchozímu porovnání řešení s využitím centrálních diferencí. <br>\n",
    "2) Přidejte k předchozímu porovnání řešení s využitím zpětných diferencí. <br>\n",
    "3) Všechna 4 řešení vykreslete."
   ]
  },
  {
   "cell_type": "code",
   "execution_count": null,
   "metadata": {},
   "outputs": [],
   "source": [
    "%  using central differences\n",
    "A=(1+h*D/(2*k))*diag(ones(n,1),-1)-2*diag(ones(n+1,1))+(1-h*D/(2*k))*diag(ones(n,1),1); % matrix assembly\n",
    "b=-ones(n+1,1)*h^2*f/k; % right hand side\n",
    "b(1)=U; A(1,1)=1; A(1,2)=0;         % Dirichlet boundary condition\n",
    "b(end)=b(end)+2*h*T/k*(1-h*D/2/k);  % Neumann b. c.\n",
    "A(end,end-1)=2;                     % Neumann b. c.\n",
    "u_FDM_central=A\\b;          % solution of the linear system\n",
    "\n",
    "figure(3)\n",
    "plot(x_FDM,u_FDM_central) % plot of the numerical solution\n",
    "hold on\n",
    "plot(x_analytical,u_analytical(x_analytical)) % plot of the analytical solution\n",
    "legend('FDM central','analytical');\n",
    "grid on"
   ]
  },
  {
   "cell_type": "code",
   "execution_count": null,
   "metadata": {},
   "outputs": [],
   "source": [
    "%  using down-stream differences\n",
    "A=(1)*diag(ones(n,1),-1)+(-2+D*h/k)*diag(ones(n+1,1))+(1-h*D/k)*diag(ones(n,1),1); % matrix assembly\n",
    "b=-ones(n+1,1)*h^2*f/k; % right hand side\n",
    "b(1)=U; A(1,1)=1; A(1,2)=0;     % Dirichlet boundary condition\n",
    "b(end)=b(end)+h*T/k*(1-h*D/k);  % Neumann b. c.\n",
    "A(end,end)=A(end,end)+1-D*h/k;  % Neumann b. c.\n",
    "u_FDM_down=A\\b;          % solution of the linear system\n",
    "\n",
    "figure(4)\n",
    "plot(x_FDM,u_FDM_down) % plot of the numerical solution\n",
    "hold on\n",
    "plot(x_analytical,u_analytical(x_analytical)) % plot of the analytical solution\n",
    "legend('FDM down','analytical');\n",
    "grid on"
   ]
  },
  {
   "cell_type": "markdown",
   "metadata": {},
   "source": [
    "Výsledné grafické porovnání:"
   ]
  },
  {
   "cell_type": "code",
   "execution_count": null,
   "metadata": {},
   "outputs": [],
   "source": [
    "figure(4)\n",
    "plot(x_FDM,u_FDM_up) % plot of the numerical solution\n",
    "hold on\n",
    "plot(x_FDM,u_FDM_central)\n",
    "plot(x_FDM,u_FDM_down)\n",
    "plot(x_analytical,u_analytical(x_analytical)) % plot of the analytical solution\n",
    "legend('FDM up','FDM central','FDM down','analytical');\n",
    "grid on"
   ]
  },
  {
   "cell_type": "markdown",
   "metadata": {},
   "source": [
    "## Numerické experimenty:\n",
    "Zkuste navyšovat hodnotu koeficientu $D$ u konvektivního členu a sledujte kvalitu jednotlivých numerických aproximací."
   ]
  },
  {
   "cell_type": "code",
   "execution_count": null,
   "metadata": {},
   "outputs": [],
   "source": []
  }
 ],
 "metadata": {
  "kernelspec": {
   "display_name": "Octave",
   "language": "octave",
   "name": "octave"
  },
  "language_info": {
   "file_extension": ".m",
   "help_links": [
    {
     "text": "GNU Octave",
     "url": "https://www.gnu.org/software/octave/support.html"
    },
    {
     "text": "Octave Kernel",
     "url": "https://github.com/Calysto/octave_kernel"
    },
    {
     "text": "MetaKernel Magics",
     "url": "https://metakernel.readthedocs.io/en/latest/source/README.html"
    }
   ],
   "mimetype": "text/x-octave",
   "name": "octave",
   "version": "6.4.0"
  }
 },
 "nbformat": 4,
 "nbformat_minor": 4
}
