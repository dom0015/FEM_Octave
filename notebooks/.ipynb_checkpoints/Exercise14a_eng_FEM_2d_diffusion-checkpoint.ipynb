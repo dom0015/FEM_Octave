{
 "cells": [
  {
   "cell_type": "code",
   "execution_count": null,
   "metadata": {},
   "outputs": [],
   "source": [
    "graphics_toolkit(\"gnuplot\"); % use if \"plot\" does not work"
   ]
  },
  {
   "cell_type": "markdown",
   "metadata": {},
   "source": [
    "## Finite element method (FEM) in 2d\n",
    "Solve the following 2d diffusion boundary value problem using linear finite elements."
   ]
  },
  {
   "cell_type": "code",
   "execution_count": null,
   "metadata": {},
   "outputs": [],
   "source": [
    "%% 2d boundary value problem:\n",
    "%   -div(k(x)*grad(u(x)))=f(x) inside of the domain\n",
    "%   u(x)=U(x) at GammaD\n",
    "%   k(x)*(du/dn)(x)=g(x) at GammaN"
   ]
  },
  {
   "cell_type": "markdown",
   "metadata": {},
   "source": [
    "Consider rectangular domain $(0,L_1)\\times(0,L_2)$ and its regular triangulation, i.e. prepare input matrices NODE, ELEM:"
   ]
  },
  {
   "cell_type": "code",
   "execution_count": null,
   "metadata": {},
   "outputs": [],
   "source": [
    "%% example: preparation of a simple network\n",
    "%  triangulation of a rectangular domain (0,L1)x(0,L2)\n",
    "L1=4; L2=2;\n",
    "nx=40; ny=40;\n",
    "[coords1,coords2]=meshgrid(linspace(0,L1,nx),linspace(0,L2,ny));\n",
    "coords1=coords1(:); coords2=coords2(:);\n",
    "ELEM=rectangle_triangulation(nx,ny);\n",
    "NODE=[coords1,coords2];\n",
    "n_NODE=size(NODE,1);\n",
    "n_ELEM=size(ELEM,1);\n",
    "CENTERS=[mean(coords1(ELEM),2),mean(coords2(ELEM),2)];\n",
    "k=@(x)sin(5*x(:,1))+2;"
   ]
  },
  {
   "cell_type": "markdown",
   "metadata": {},
   "source": [
    "Preparation of boundary conditions and material inputs:"
   ]
  },
  {
   "cell_type": "code",
   "execution_count": null,
   "metadata": {},
   "outputs": [],
   "source": [
    "%% boundary conditions inputs\n",
    "%DBOUNDARY=((coords1==L1)|(coords2==0));\n",
    "DBOUNDARY=((coords1==0)|(coords1==L1)|(coords2==0)|(coords2==L2));\n",
    "%DBOUNDARY=DBOUNDARY|((coords1==1)&(coords2<=1))|((coords2==1)&(coords1<=1));\n",
    "DVALUE=2*ones(sum(DBOUNDARY),1);\n",
    "%NBOUNDARY=[(1:(ny-1))' (2:ny)'];\n",
    "NBOUNDARY=[];\n",
    "NVALUE=[];\n",
    "%NVALUE=0.1*ones(size(NBOUNDARY,1),1);\n",
    "FREENODE=true(n_NODE,1); FREENODE(DBOUNDARY)=false;\n",
    "\n",
    "%% other input data\n",
    "MATERIALS=k(CENTERS); %ones(n_ELEM,1);\n",
    "F=-10*ones(n_ELEM,1);"
   ]
  },
  {
   "cell_type": "markdown",
   "metadata": {},
   "source": [
    "Construct FEM matrix and right hand side vector using local matrices and vectors:"
   ]
  },
  {
   "cell_type": "code",
   "execution_count": null,
   "metadata": {},
   "outputs": [],
   "source": [
    "%% construction of global \"stiffness\" matrix and rhs\n",
    "AREAS=polyarea(coords1(ELEM),coords2(ELEM),2);\n",
    "A=zeros(n_NODE);\n",
    "b=zeros(n_NODE,1);\n",
    "for i=1:n_ELEM\n",
    "    % add local \"stiffness\" matrix\n",
    "    x=NODE(ELEM(i,:),:);\n",
    "    B_=[x(2,2)-x(3,2) x(3,2)-x(1,2) x(1,2)-x(2,2)\n",
    "        x(3,1)-x(2,1) x(1,1)-x(3,1) x(2,1)-x(1,1)];\n",
    "    A_local=MATERIALS(i)*B_'*B_/4/AREAS(i);\n",
    "    A(ELEM(i,:),ELEM(i,:))=A(ELEM(i,:),ELEM(i,:))+A_local;\n",
    "    % add local rhs\n",
    "    b_local=ones(3,1)/3*F(i)*AREAS(i);\n",
    "    b(ELEM(i,:))=b(ELEM(i,:))+b_local;\n",
    "end"
   ]
  },
  {
   "cell_type": "markdown",
   "metadata": {},
   "source": [
    "Eliminate unknowns corresponding to Dirichlet nodes, modify the r. h. s. vector according to Neumann boundary conditions, and solve the resulting linear system:"
   ]
  },
  {
   "cell_type": "code",
   "execution_count": null,
   "metadata": {},
   "outputs": [],
   "source": [
    "%% modifications due to boundary conditions\n",
    "u=zeros(n_NODE,1);\n",
    "u(DBOUNDARY)=DVALUE;\n",
    "b=b-A*u;\n",
    "for i=1:length(NVALUE)\n",
    "    x=NODE(NBOUNDARY(i,:),:);\n",
    "    b(NBOUNDARY(i,:))=b(NBOUNDARY(i,:))+norm(x(1,:)-x(2,:))*NVALUE(i)/2;\n",
    "end"
   ]
  },
  {
   "cell_type": "markdown",
   "metadata": {},
   "source": [
    "Plot solution:"
   ]
  },
  {
   "cell_type": "code",
   "execution_count": null,
   "metadata": {},
   "outputs": [],
   "source": [
    "%% solution of the resulting linear system and visualization\n",
    "u(FREENODE)=A(FREENODE,FREENODE)\\b(FREENODE);\n",
    "figure; trimesh(ELEM,coords1,coords2,u);"
   ]
  },
  {
   "cell_type": "markdown",
   "metadata": {},
   "source": [
    "## Numerical experiments:\n",
    "1) Solve the following boundary value problem:\n",
    "\n",
    "$-\\text{div}(k \\, \\text{grad}(u)) = -10 $  for  $x\\in\\Omega=(0,4)\\times(0,2)$\n",
    "\n",
    "$u(x)=2$  for  $x\\in\\partial \\Omega$\n",
    "\n",
    "$k(x) = \\sin(x_1)+2$  for  $x=(x_1,x_2)\\in\\Omega$\n",
    "\n",
    "2) Solve the following boundary value problem:\n",
    "\n",
    "$-\\text{div}(k \\, \\text{grad}(u)) = -10 $  for  $x\\in\\Omega=(0,2)\\times(0,2)$\n",
    "\n",
    "$u(x)=x_1+x_2$  for  $x=(x_1,x_2)\\in\\partial \\Omega$\n",
    "\n",
    "$k(x)=1$  for  $x\\in\\Omega$\n",
    "\n",
    "3) Solve the following boundary value problem:\n",
    "\n",
    "$-\\text{div}(k \\, \\text{grad}(u)) = -10 $  for  $x\\in\\Omega=(0,2)\\times(0,2)$\n",
    "\n",
    "$u(x)=\\sin(x_1)$  for  $x\\in\\Gamma_D=(0,2)\\times\\{0\\}\\cup(0,2)\\times\\{2\\}$\n",
    "\n",
    "$k(x)\\frac{\\text{d}u}{\\text{d}n}(x)=0$ for $\\partial \\Omega \\setminus \\Gamma_D$\n",
    "\n",
    "$k(x)=1$  for  $x\\in\\Omega$\n",
    "\n",
    "4) Choose a boundary value problem with known analytical solution and compare the solutions."
   ]
  },
  {
   "cell_type": "code",
   "execution_count": null,
   "metadata": {},
   "outputs": [],
   "source": []
  }
 ],
 "metadata": {
  "kernelspec": {
   "display_name": "Octave",
   "language": "octave",
   "name": "octave"
  },
  "language_info": {
   "file_extension": ".m",
   "help_links": [
    {
     "text": "GNU Octave",
     "url": "https://www.gnu.org/software/octave/support.html"
    },
    {
     "text": "Octave Kernel",
     "url": "https://github.com/Calysto/octave_kernel"
    },
    {
     "text": "MetaKernel Magics",
     "url": "https://metakernel.readthedocs.io/en/latest/source/README.html"
    }
   ],
   "mimetype": "text/x-octave",
   "name": "octave",
   "version": "6.4.0"
  }
 },
 "nbformat": 4,
 "nbformat_minor": 4
}
