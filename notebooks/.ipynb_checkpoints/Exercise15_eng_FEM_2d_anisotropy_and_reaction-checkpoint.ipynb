{
 "cells": [
  {
   "cell_type": "code",
   "execution_count": null,
   "metadata": {},
   "outputs": [],
   "source": [
    "graphics_toolkit(\"gnuplot\"); % use if \"plot\" does not work"
   ]
  },
  {
   "cell_type": "markdown",
   "metadata": {},
   "source": [
    "## Finite element method (FEM) in 2d\n",
    "### Anisotropic material\n",
    "Solve the following 2d diffusion boundary value problem using linear finite elements. First consider $k_0=0$ (without reactive term)."
   ]
  },
  {
   "cell_type": "code",
   "execution_count": null,
   "metadata": {},
   "outputs": [],
   "source": [
    "%% 2d boundary value problem:\n",
    "%   -div(K(x)*grad(u(x))) + k0(x)u(x) = f(x) inside of the domain\n",
    "%   u(x)=U(x) at GammaD\n",
    "%   K(x)*(du/dn)(x)=g(x) at GammaN\n",
    "\n",
    "Uhat = 0.5;\n",
    "k0 = 10;\n",
    "f = 0;\n",
    "f_modified = f+k0*Uhat;"
   ]
  },
  {
   "cell_type": "markdown",
   "metadata": {},
   "source": [
    "Consider rectangular domain $(0,L_1)\\times(0,L_2)$ and its regular triangulation, i.e. prepare input matrices NODE, ELEM:"
   ]
  },
  {
   "cell_type": "code",
   "execution_count": null,
   "metadata": {},
   "outputs": [],
   "source": [
    "%% example: preparation of a simple network\n",
    "%  triangulation of a rectangular domain (0,L1)x(0,L2)\n",
    "nx=30; ny=30;\n",
    "[coords1,coords2]=meshgrid(linspace(0,1,nx),linspace(0,1,ny)); % meshgrid\n",
    "coords1=coords1(:); coords2=coords2(:);\n",
    "NODE=[coords1 coords2];\n",
    "n_NODE=size(NODE,1);\n",
    "ELEM=rectangle_triangulation(nx,ny);\n",
    "n_ELEM=size(ELEM,1);\n",
    "AREAS=polyarea(coords1(ELEM),coords2(ELEM),2);"
   ]
  },
  {
   "cell_type": "markdown",
   "metadata": {},
   "source": [
    "Preparation of boundary conditions and material inputs:"
   ]
  },
  {
   "cell_type": "code",
   "execution_count": null,
   "metadata": {},
   "outputs": [],
   "source": [
    "%% boundary conditions inputs\n",
    "DBOUNDARY=((coords1==0)|(coords1==1)|(coords2==0)|(coords2==1));\n",
    "DVALUE=zeros(sum(DBOUNDARY),1); % values of U(x) in boundary nodes\n",
    "NBOUNDARY=[];    \n",
    "NVALUE=ones(size(NBOUNDARY,1),1); % values of g(x) on boundary edges!\n",
    "FREENODE=true(n_NODE,1); FREENODE(DBOUNDARY)=false;\n",
    "\n",
    "%% other input data\n",
    "alpha=pi/3; % axis\n",
    "U=[cos(alpha) sin(-alpha); sin(alpha) cos(-alpha)];\n",
    "D=diag([100 1]);\n",
    "K=U*D*U'\n",
    "MATERIALS=ones(n_ELEM,1)*reshape(U*D*U',1,4); % anisotropic material\n",
    "MATERIALS0=k0*ones(n_ELEM,1);\n",
    "F=f_modified*ones(n_ELEM,1);"
   ]
  },
  {
   "cell_type": "markdown",
   "metadata": {},
   "source": [
    "Construct FEM matrix and right hand side vector using local matrices and vectors:"
   ]
  },
  {
   "cell_type": "code",
   "execution_count": null,
   "metadata": {},
   "outputs": [],
   "source": [
    "%% construction of global matrix and rhs\n",
    "A=zeros(n_NODE);\n",
    "b=zeros(n_NODE,1);\n",
    "for i=1:n_ELEM\n",
    "    % local \"stiffness\" matrix\n",
    "    x=NODE(ELEM(i,:),:);\n",
    "    B_=[x(2,2)-x(3,2) x(3,2)-x(1,2) x(1,2)-x(2,2);\n",
    "        x(3,1)-x(2,1) x(1,1)-x(3,1) x(2,1)-x(1,1)];\n",
    "    #A_local=(B_')*reshape(MATERIALS(i,:),2,2)*B_/4/AREAS(i);\n",
    "    A_local=(B_')*K*B_/4/AREAS(i); % only if K in constant (homogeneous material)\n",
    "    % local \"mass\" matrix\n",
    "    J=abs(2*AREAS(i));\n",
    "%     DF=[x(2,1)-x(1,1) x(3,1)-x(1,1); \n",
    "%         x(2,2)-x(1,2) x(3,2)-x(1,2)];\n",
    "%     J=abs(det(DF)); % calculation of J (if AREAS not precomputed)\n",
    "    M_local=J*MATERIALS0(i)*[2 1 1; 1 2 1; 1 1 2]/24;\n",
    "    A(ELEM(i,:),ELEM(i,:))=A(ELEM(i,:),ELEM(i,:))+A_local+M_local;\n",
    "    % add local rhs\n",
    "    b_local=F(i)*AREAS(i)/3;\n",
    "    b(ELEM(i,:))=b(ELEM(i,:))+b_local;\n",
    "end"
   ]
  },
  {
   "cell_type": "markdown",
   "metadata": {},
   "source": [
    "Eliminate unknowns corresponding to Dirichlet nodes, modify the r. h. s. vector according to Neumann boundary conditions, and solve the resulting linear system:"
   ]
  },
  {
   "cell_type": "code",
   "execution_count": null,
   "metadata": {},
   "outputs": [],
   "source": [
    "%% modifications due to boundary conditions\n",
    "u=zeros(n_NODE,1);\n",
    "u(DBOUNDARY)=DVALUE;\n",
    "b=b-A*u;\n",
    "for i=1:length(NVALUE)\n",
    "    x=NODE(NBOUNDARY(i,:),:);\n",
    "    b(NBOUNDARY(i,:))=b(NBOUNDARY(i,:))+1/2*norm(x(2,:)-x(1,:))*NVALUE(i);\n",
    "end"
   ]
  },
  {
   "cell_type": "markdown",
   "metadata": {},
   "source": [
    "Plot solution:"
   ]
  },
  {
   "cell_type": "code",
   "execution_count": null,
   "metadata": {},
   "outputs": [],
   "source": [
    "%% solution of the resulting linear system and visualization\n",
    "u(FREENODE)=A(FREENODE,FREENODE)\\b(FREENODE);\n",
    "figure; \n",
    "#trimesh(ELEM,coords1,coords2,u);\n",
    "imagesc(reshape(u,nx,ny));\n",
    "colorbar()"
   ]
  },
  {
   "cell_type": "markdown",
   "metadata": {},
   "source": [
    "## Numerical experiments:\n",
    "1) Consider reactive term, i.e. $k_0\\neq0$."
   ]
  },
  {
   "cell_type": "code",
   "execution_count": null,
   "metadata": {},
   "outputs": [],
   "source": []
  }
 ],
 "metadata": {
  "kernelspec": {
   "display_name": "Octave",
   "language": "octave",
   "name": "octave"
  },
  "language_info": {
   "file_extension": ".m",
   "help_links": [
    {
     "text": "GNU Octave",
     "url": "https://www.gnu.org/software/octave/support.html"
    },
    {
     "text": "Octave Kernel",
     "url": "https://github.com/Calysto/octave_kernel"
    },
    {
     "text": "MetaKernel Magics",
     "url": "https://metakernel.readthedocs.io/en/latest/source/README.html"
    }
   ],
   "mimetype": "text/x-octave",
   "name": "octave",
   "version": "6.4.0"
  }
 },
 "nbformat": 4,
 "nbformat_minor": 4
}
