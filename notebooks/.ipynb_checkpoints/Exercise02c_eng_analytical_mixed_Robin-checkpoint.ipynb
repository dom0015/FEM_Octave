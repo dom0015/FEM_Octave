{
 "cells": [
  {
   "cell_type": "code",
   "execution_count": null,
   "metadata": {},
   "outputs": [],
   "source": [
    "graphics_toolkit(\"gnuplot\"); % use if \"plot\" does not work"
   ]
  },
  {
   "cell_type": "markdown",
   "metadata": {},
   "source": [
    "## Analytical solution\n",
    "Diffusion in 1d + adding material interface, reactive term and convective term <br>\n",
    "### Mixed boundary conditions (Dirichlet + Robin)\n",
    "## Tasks:\n",
    "1) Solve the following problems analytically. <br>\n",
    "2) Plot solutions. <br>\n",
    "3) Try changing input parameters ($L,f,k,U_0,U_L,\\ldots$)."
   ]
  },
  {
   "cell_type": "code",
   "execution_count": null,
   "metadata": {},
   "outputs": [],
   "source": [
    "%% Diffusion with mixed boundary conditions\n",
    "%   -k*u''(x)=f     in (0,L)\n",
    "%        u(0)=U\n",
    "%    -k*u'(L)=alfa*(u(L)-Uhat)\n",
    "L=10;\n",
    "f=0.2;                  % sources (constant in whole domain)\n",
    "k=1;                    % material parameter (e.g. conductivity)\n",
    "U=0;                    % Dirichlet boundary condition\n",
    "alfa=2;                 % e.g. heat transfer coefficient\n",
    "Uhat=2;                 % e.g. surrounding temperature\n",
    "\n",
    "C2 = U;\n",
    "C1 = (f*L+(alfa*f*L*L)/(2*k)-alfa*U+alfa*Uhat)/(alfa*L+k);\n",
    "u=@(x)-f/(2*k)*x.^2+C1*x+C2;"
   ]
  },
  {
   "cell_type": "markdown",
   "metadata": {},
   "source": [
    "Let's plot the solution."
   ]
  },
  {
   "cell_type": "code",
   "execution_count": null,
   "metadata": {},
   "outputs": [],
   "source": [
    "x=linspace(0,L,100); % points of visualization\n",
    "points_items={x};\n",
    "solution_items={u}; % create cell of solution handles\n",
    "legend_items={'diffusion mixed'}; % create cell of legends"
   ]
  },
  {
   "cell_type": "markdown",
   "metadata": {},
   "source": [
    "Plotting function:"
   ]
  },
  {
   "cell_type": "code",
   "execution_count": null,
   "metadata": {},
   "outputs": [],
   "source": [
    "function plot_solutions(poi,sol,leg)\n",
    "    figure; hold on\n",
    "    for i=1:length(sol)\n",
    "        plot(poi{i},sol{i}(poi{i}))\n",
    "    end\n",
    "    legend(leg);   % show legend\n",
    "    grid on\n",
    "    xlabel('x')\n",
    "    ylabel('u(x)')\n",
    "end"
   ]
  },
  {
   "cell_type": "code",
   "execution_count": null,
   "metadata": {},
   "outputs": [],
   "source": [
    "plot_solutions(points_items,solution_items,legend_items)"
   ]
  },
  {
   "cell_type": "code",
   "execution_count": null,
   "metadata": {},
   "outputs": [],
   "source": [
    "%% Diffusion with mixed boundary conditions + reaction\n",
    "%   -k*u''(x)+k0*u(x)=g     in (0,L)\n",
    "%                u(0)=U\n",
    "%            -k*u'(L)=alfa*(u(L)-Uhat)\n",
    "k0=0.5;\n",
    "g=f+k0*Uhat;\n",
    "% analytical solution:\n",
    "K=sqrt(k0/k);\n",
    "E1=exp(-K*L)*(k*K-alfa);\n",
    "E2=exp(K*L)*(k*K+alfa);\n",
    "tmp=(U-g/k0)*E2+alfa*g/k0-alfa*Uhat;\n",
    "C1=tmp/(E1+E2);\n",
    "C2=U-C1-g/k0;\n",
    "u=@(x)C1*exp(-K*x)+C2*exp(K*x)+g/k0;\n",
    "\n",
    "points_items{end+1}=x;\n",
    "solution_items{end+1}=u;\n",
    "legend_items{end+1}='d.+reaction mixed';    % append legend\n",
    "plot_solutions(points_items,solution_items,legend_items)"
   ]
  },
  {
   "cell_type": "markdown",
   "metadata": {},
   "source": [
    "## Numerical experiments\n",
    "1. Check that for $k_0 \\rightarrow 0$ the solution of the boundary value problem with reaction converges to the solution of the problem without reaction."
   ]
  },
  {
   "cell_type": "code",
   "execution_count": null,
   "metadata": {},
   "outputs": [],
   "source": []
  }
 ],
 "metadata": {
  "kernelspec": {
   "display_name": "Octave",
   "language": "octave",
   "name": "octave"
  },
  "language_info": {
   "file_extension": ".m",
   "help_links": [
    {
     "text": "GNU Octave",
     "url": "https://www.gnu.org/software/octave/support.html"
    },
    {
     "text": "Octave Kernel",
     "url": "https://github.com/Calysto/octave_kernel"
    },
    {
     "text": "MetaKernel Magics",
     "url": "https://metakernel.readthedocs.io/en/latest/source/README.html"
    }
   ],
   "mimetype": "text/x-octave",
   "name": "octave",
   "version": "6.4.0"
  }
 },
 "nbformat": 4,
 "nbformat_minor": 4
}
