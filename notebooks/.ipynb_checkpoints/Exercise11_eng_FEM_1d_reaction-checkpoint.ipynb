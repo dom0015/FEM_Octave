{
 "cells": [
  {
   "cell_type": "code",
   "execution_count": null,
   "metadata": {},
   "outputs": [],
   "source": [
    "graphics_toolkit(\"gnuplot\"); % use if \"plot\" does not work"
   ]
  },
  {
   "cell_type": "markdown",
   "metadata": {},
   "source": [
    "## Finite element method (FEM) in 1d\n",
    "Implement the material input in the form of a function, e.g. k=@(x)1+x.^2; <br>\n",
    "for constant functions, the solution can again be compared to the analytical one.\n"
   ]
  },
  {
   "cell_type": "code",
   "execution_count": null,
   "metadata": {},
   "outputs": [],
   "source": [
    "%% boundary value problem:\n",
    "%   -k*u''(x)+k0*u(x)=g\n",
    "%   u(0)=U\n",
    "%   -k*u'(L)=T\n",
    "\n",
    "k=@(x)+x.*0+1;\n",
    "k0=1; \n",
    "L=10;\n",
    "f=1; Uhat=0; g=f+k0*Uhat;\n",
    "U=2;\n",
    "T=-2;\n",
    "\n",
    "%% network\n",
    "N=10;\n",
    "POINTS=linspace(0,L,N+1)';\n",
    "n_POINTS=size(POINTS,1);\n",
    "ELEMENTS=[(1:n_POINTS-1)' (2:n_POINTS)'];\n",
    "n_ELEMENTS=size(ELEMENTS,1);\n",
    "DBOUNDARY=1;\n",
    "DVALUE=U;\n",
    "FREENODE=true(n_POINTS,1); FREENODE(DBOUNDARY)=false;\n",
    "NBOUNDARY=n_POINTS;\n",
    "NVALUE=T;\n",
    "LENGTHS=POINTS(ELEMENTS(:,2))-POINTS(ELEMENTS(:,1));\n",
    "CENTERS=sum(POINTS(ELEMENTS),2)/2;\n",
    "MATERIALS=k(CENTERS);\n",
    "F=g*ones(n_ELEMENTS,1);\n",
    "MATERIALS0=k0*ones(n_ELEMENTS,1);\n",
    "\n",
    "%% local matrices and rhs\n",
    "A_local=[1 -1; -1 1];\n",
    "M_local=[1/3 1/6; 1/6 1/3];\n",
    "b_local=[1/2; 1/2];\n",
    "\n",
    "%% global matrix and rhs\n",
    "A=zeros(n_POINTS);\n",
    "M=zeros(n_POINTS);\n",
    "b=zeros(n_POINTS,1);\n",
    "for i=1:n_ELEMENTS\n",
    "    A(ELEMENTS(i,:),ELEMENTS(i,:))=A(ELEMENTS(i,:),ELEMENTS(i,:))+A_local*MATERIALS(i)/LENGTHS(i);\n",
    "    M(ELEMENTS(i,:),ELEMENTS(i,:))=M(ELEMENTS(i,:),ELEMENTS(i,:))+M_local*MATERIALS0(i)*LENGTHS(i);\n",
    "    b(ELEMENTS(i,:))=b(ELEMENTS(i,:))+b_local*F(i)*LENGTHS(i);\n",
    "end\n",
    "AM=A+M;\n",
    "%% boundary value conditions and solution\n",
    "u=zeros(n_POINTS,1);\n",
    "u(~FREENODE)=DVALUE;\n",
    "b=b-AM*u;\n",
    "b(NBOUNDARY)=b(NBOUNDARY)-NVALUE;\n",
    "u(FREENODE)=AM(FREENODE,FREENODE)\\b(FREENODE);\n",
    "figure;\n",
    "plot(POINTS,u); hold on\n",
    "\n",
    "%% analytical solution\n",
    "k=1;\n",
    "K=sqrt(k0/k);\n",
    "C1=(T/k+(U-g/k0)*K*exp(K*L))/K/(exp(-K*L)+exp(K*L));\n",
    "C2=U-C1-g/k0;\n",
    "u=@(x)C1*exp(-K*x)+C2*exp(K*x)+g/k0;\n",
    "x=linspace(0,L,100);    % points of visualization\n",
    "hold on; plot(x,u(x))   % plot of the analytical solution\n",
    "legend('FEM','analytical');"
   ]
  },
  {
   "cell_type": "markdown",
   "metadata": {},
   "source": [
    "## Tasks:\n",
    "1) Modify the previous code and solve Dirichlet boundary problem (i.e. both boundary conditions od Dirichlet type).<br>\n",
    "2) Plot the approximation of the flow function $-k(x)\\cdot u'(x)$ using finite differences."
   ]
  },
  {
   "cell_type": "code",
   "execution_count": null,
   "metadata": {},
   "outputs": [],
   "source": [
    "%% flow function\n",
    "t=-(u(ELEMENTS(:,2))-u(ELEMENTS(:,1))).*MATERIALS./LENGTHS;\n",
    "plot(POINTS(ELEMENTS(:,1))+LENGTHS/2,t)\n",
    "grid on"
   ]
  },
  {
   "cell_type": "code",
   "execution_count": null,
   "metadata": {},
   "outputs": [],
   "source": []
  }
 ],
 "metadata": {
  "kernelspec": {
   "display_name": "Octave",
   "language": "octave",
   "name": "octave"
  },
  "language_info": {
   "file_extension": ".m",
   "help_links": [
    {
     "text": "GNU Octave",
     "url": "https://www.gnu.org/software/octave/support.html"
    },
    {
     "text": "Octave Kernel",
     "url": "https://github.com/Calysto/octave_kernel"
    },
    {
     "text": "MetaKernel Magics",
     "url": "https://metakernel.readthedocs.io/en/latest/source/README.html"
    }
   ],
   "mimetype": "text/x-octave",
   "name": "octave",
   "version": "6.4.0"
  }
 },
 "nbformat": 4,
 "nbformat_minor": 4
}
