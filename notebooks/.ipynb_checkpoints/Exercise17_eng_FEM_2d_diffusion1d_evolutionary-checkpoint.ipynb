{
 "cells": [
  {
   "cell_type": "code",
   "execution_count": null,
   "metadata": {},
   "outputs": [],
   "source": [
    "graphics_toolkit(\"gnuplot\"); % use if \"plot\" does not work"
   ]
  },
  {
   "cell_type": "markdown",
   "metadata": {},
   "source": [
    "## Solution of 1d diffusion + time \n",
    "### A) using 2d finite element method\n",
    "Solve the following boundary value problem in 2d time-space domain using linear finite elements:"
   ]
  },
  {
   "cell_type": "code",
   "execution_count": null,
   "metadata": {},
   "outputs": [],
   "source": [
    "%% boundary value problem:\n",
    "%   c*du/dt - (d^2)u/dx^2 = 0 inside of the domain (0,L)x(0,T)\n",
    "%   u(0,t) = f0(t)\n",
    "%   u(L,t) = fL(t)\n",
    "%   u(x,0) = u0(x)\n",
    "\n",
    "% parameters:\n",
    "c = 5;\n",
    "L = 1;\n",
    "T = 1;\n",
    "u0 = @(x)sin(pi*x);"
   ]
  },
  {
   "cell_type": "markdown",
   "metadata": {},
   "source": [
    "Consider rectangular domain $(0,L)\\times(0,T)$ and its regular triangulation, i.e. prepare input matrices NODE, ELEM. Also AREAS and CENTERS (area and center of gravity for each triangle) may be useful."
   ]
  },
  {
   "cell_type": "code",
   "execution_count": null,
   "metadata": {},
   "outputs": [],
   "source": [
    "%  triangulation of a rectangular domain (0,L)x(0,T)\n",
    "nx=20; nt=40;\n",
    "[coords1,coords2]=meshgrid(linspace(0,L,nx),linspace(0,T,nt)); % meshgrid\n",
    "coords1=coords1(:); coords2=coords2(:);\n",
    "NODE=[coords1 coords2];\n",
    "n_NODE=size(NODE,1);\n",
    "ELEM=rectangle_triangulation(nx,nt);\n",
    "n_ELEM=size(ELEM,1);\n",
    "AREAS=polyarea(coords1(ELEM),coords2(ELEM),2);\n",
    "CENTERS=[mean(coords1(ELEM),2),mean(coords2(ELEM),2)];"
   ]
  },
  {
   "cell_type": "markdown",
   "metadata": {},
   "source": [
    "Preparation of boundary conditions and material inputs:"
   ]
  },
  {
   "cell_type": "code",
   "execution_count": null,
   "metadata": {},
   "outputs": [],
   "source": [
    "%% boundary conditions inputs\n",
    "DBOUNDARY=((coords1==0)|(coords1==L)|(coords2==0));\n",
    "DVALUE=0*DBOUNDARY;\n",
    "DVALUE(coords2==0)=u0(coords1(coords2==0));\n",
    "DVALUE(coords1==L)=u0(L);\n",
    "DVALUE = DVALUE(DBOUNDARY);\n",
    "NBOUNDARY=[];  \n",
    "NVALUE=0*ones(size(NBOUNDARY,1),1);\n",
    "FREENODE=true(n_NODE,1); FREENODE(DBOUNDARY)=false;\n",
    "\n",
    "%% other input data\n",
    "MATERIALS1=c*ones(n_ELEM,1);\n",
    "SOURCE=0*ones(n_ELEM,1); % source term"
   ]
  },
  {
   "cell_type": "markdown",
   "metadata": {},
   "source": [
    "Construct FEM matrix and right hand side vector using local matrices and vectors:"
   ]
  },
  {
   "cell_type": "code",
   "execution_count": null,
   "metadata": {},
   "outputs": [],
   "source": [
    "%% construction of global matrix and rhs\n",
    "AREAS=polyarea(coords1(ELEM),coords2(ELEM),2);\n",
    "A=zeros(n_NODE);\n",
    "b=zeros(n_NODE,1);\n",
    "for i=1:n_ELEM\n",
    "\n",
    "    % local matrix for the term \"integral((d^2u/dx^2)*v) dx dt\" (x1=x)\n",
    "    x=NODE(ELEM(i,:),:);\n",
    "    B_=[x(2,2)-x(3,2) x(3,2)-x(1,2) x(1,2)-x(2,2);\n",
    "        x(3,1)-x(2,1) x(1,1)-x(3,1) x(2,1)-x(1,1)];\n",
    "    J=abs(2*AREAS(i));\n",
    "    DF=[x(2,1)-x(1,1) x(3,1)-x(1,1);\n",
    "    x(2,2)-x(1,2) x(3,2)-x(1,2)];\n",
    "    temp=[-1 1 0; -1 0 1]'*inv(DF);\n",
    "    MXX_local=temp(:,1)*temp(:,1)'*AREAS(i);\n",
    "    \n",
    "    % local matrix for x2(=t) convection\n",
    "    MT_local=MATERIALS1(i)*J*temp(:,2)*[1 1 1]/6;\n",
    "    \n",
    "    % add local matrices to the global matrix\n",
    "    A(ELEM(i,:),ELEM(i,:))=A(ELEM(i,:),ELEM(i,:))+MXX_local+MT_local';\n",
    "    \n",
    "    % add local rhs to the global rhs\n",
    "    b_local=SOURCE(i)*AREAS(i)/3;\n",
    "    b(ELEM(i,:))=b(ELEM(i,:))+b_local;\n",
    "end"
   ]
  },
  {
   "cell_type": "markdown",
   "metadata": {},
   "source": [
    "Eliminate unknowns corresponding to Dirichlet nodes, modify the r. h. s. vector according to Neumann boundary conditions, and solve the resulting linear system:"
   ]
  },
  {
   "cell_type": "code",
   "execution_count": null,
   "metadata": {},
   "outputs": [],
   "source": [
    "%% modifications due to boundary conditions\n",
    "u=zeros(n_NODE,1);\n",
    "u(DBOUNDARY)=DVALUE;\n",
    "b=b-A*u;\n",
    "for i=1:length(NVALUE)\n",
    "    x=NODE(NBOUNDARY(i,:),:);\n",
    "    b(NBOUNDARY(i,:))=b(NBOUNDARY(i,:))+1/2*norm(x(2,:)-x(1,:))*NVALUE(i);\n",
    "end"
   ]
  },
  {
   "cell_type": "markdown",
   "metadata": {},
   "source": [
    "Plot solution:"
   ]
  },
  {
   "cell_type": "code",
   "execution_count": null,
   "metadata": {
    "scrolled": false
   },
   "outputs": [],
   "source": [
    "%% solution of the resulting linear system and visualization\n",
    "u(FREENODE)=A(FREENODE,FREENODE)\\b(FREENODE);\n",
    "figure; \n",
    "trimesh(ELEM,coords1,coords2,u);\n",
    "u_FEM2d_grid = reshape(u,nt,nx);\n",
    "#imagesc([0,L],[0,T],u_FEM2d_grid);\n",
    "set(gca,'YDir','normal')\n",
    "colorbar()"
   ]
  },
  {
   "cell_type": "markdown",
   "metadata": {},
   "source": [
    "## Numerical experiments:\n",
    "1) Choose suitable model problem, find its analytic solution and compare. For example\n",
    "\n",
    "$ c\\cdot u_{t}'(x,t) - u_{xx}''(x,t) = 0 $\n",
    "\n",
    "$ u(0,t)=u(1,t)=0 $\n",
    "\n",
    "$ u(x,0)= \\sin(\\pi x) $\n",
    "\n",
    "has the analytical solution $ u(x,t) = \\sin( \\pi x) \\exp(-\\frac{t}{c} \\pi ^2 ) $\n",
    "\n",
    "2) Compare with other numerical methods: 1d FEM + Euler, 1d FDM + Euler"
   ]
  },
  {
   "cell_type": "markdown",
   "metadata": {},
   "source": [
    "### B) analytical (for specific model problem)"
   ]
  },
  {
   "cell_type": "code",
   "execution_count": null,
   "metadata": {},
   "outputs": [],
   "source": [
    "x_grid = linspace(0,L,nx);\n",
    "t_grid = linspace(0,T,nt);\n",
    "[xx,tt]=meshgrid(x_grid,t_grid);\n",
    "u_analyt=@(x,t)sin(pi*x).*exp(-t*pi^2/c);\n",
    "u_analyt_grid = u_analyt(xx,tt);\n",
    "figure; mesh(xx,tt,u_analyt_grid); title('analytical')\n",
    "colorbar()"
   ]
  },
  {
   "cell_type": "markdown",
   "metadata": {},
   "source": [
    "Plot the difference (absolute value):"
   ]
  },
  {
   "cell_type": "code",
   "execution_count": null,
   "metadata": {
    "scrolled": false
   },
   "outputs": [],
   "source": [
    "figure; mesh(xx,tt,abs(u_analyt_grid-u_FEM2d_grid)); title('FEM2d vs. analytical')\n",
    "colorbar()"
   ]
  },
  {
   "cell_type": "markdown",
   "metadata": {},
   "source": [
    "### C) using 1d finite differences method + Euler time steps\n",
    "(time discretization using Euler, domain discretization using FDM)"
   ]
  },
  {
   "cell_type": "code",
   "execution_count": null,
   "metadata": {},
   "outputs": [],
   "source": [
    "delta_t=T/nt;  % length of one time step\n",
    "t=linspace(0,T,nt+1); % time grid\n",
    "\n",
    "%% solution using finite diferences - matrix preparation\n",
    "h=1/(nx-1);            % length of one step\n",
    "x=linspace(0,1,nx)';   % domain grid\n",
    "A=-delta_t*diag(ones(nx-3,1),-1)+(c*h^2+2*delta_t)*diag(ones(nx-2,1))-delta_t*diag(ones(nx-3,1),1); % matrix assembly\n",
    "\n",
    "%% Euler method (time steps)\n",
    "u_old = u0(x);\n",
    "u_FDM1d_grid = zeros(nt,nx);\n",
    "u_FDM1d_grid(1,:)=u_old;\n",
    "for i=2:nt\n",
    "    b=h^2*c*u_old(2:end-1); % right hand side for FDM system\n",
    "    u=A\\b;                  % solution of the FDM linear system\n",
    "    u_old = [0; u; 0];      % adding left and right point (with Dirichlet b. c.)\n",
    "    u_FDM1d_grid(i,:)=u_old;\n",
    "end\n",
    "figure; mesh(xx,tt,u_FDM1d_grid); title('FDM1d+Euler')"
   ]
  },
  {
   "cell_type": "markdown",
   "metadata": {},
   "source": [
    "Plot the difference (absolute value):"
   ]
  },
  {
   "cell_type": "code",
   "execution_count": null,
   "metadata": {},
   "outputs": [],
   "source": [
    "figure; mesh(xx,tt,abs(u_analyt_grid-u_FDM1d_grid)); title('FEM1d+Euler vs. analytical')\n",
    "colorbar()"
   ]
  }
 ],
 "metadata": {
  "kernelspec": {
   "display_name": "Octave",
   "language": "octave",
   "name": "octave"
  },
  "language_info": {
   "file_extension": ".m",
   "help_links": [
    {
     "text": "GNU Octave",
     "url": "https://www.gnu.org/software/octave/support.html"
    },
    {
     "text": "Octave Kernel",
     "url": "https://github.com/Calysto/octave_kernel"
    },
    {
     "text": "MetaKernel Magics",
     "url": "https://metakernel.readthedocs.io/en/latest/source/README.html"
    }
   ],
   "mimetype": "text/x-octave",
   "name": "octave",
   "version": "6.4.0"
  }
 },
 "nbformat": 4,
 "nbformat_minor": 4
}
