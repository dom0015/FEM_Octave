{
 "cells": [
  {
   "cell_type": "code",
   "execution_count": null,
   "metadata": {},
   "outputs": [],
   "source": [
    "graphics_toolkit(\"gnuplot\"); % use if \"plot\" does not work"
   ]
  },
  {
   "cell_type": "markdown",
   "metadata": {},
   "source": [
    "## Analytical solution\n",
    "Diffusion in 1d + adding material interface, reactive term and convective term <br>\n",
    "### Mixed boundary conditions (Dirichlet + Neumann)\n",
    "## Tasks:\n",
    "1) Solve the following problems analytically. <br>\n",
    "2) Plot solutions. <br>\n",
    "3) Try changing input parameters ($L,f,k,U_0,U_L,\\ldots$)."
   ]
  },
  {
   "cell_type": "code",
   "execution_count": null,
   "metadata": {},
   "outputs": [],
   "source": [
    "%% Diffusion with mixed boundary conditions\n",
    "%   -k*u''(x)=f     in (0,L)\n",
    "%        u(0)=U\n",
    "%    -k*u'(L)=T\n",
    "L=10;\n",
    "f=0.2;                  % sources (constant in whole domain\n",
    "k=1;                    % material parameter (e.g. conductivity)\n",
    "U=0;                    % Dirichlet boundary condition\n",
    "T=0;                    % Neumann boundary condition\n",
    "u=@(x)-f/(2*k)*x.^2+(f*L-T)*x/k+U;"
   ]
  },
  {
   "cell_type": "markdown",
   "metadata": {},
   "source": [
    "Let's plot the solution."
   ]
  },
  {
   "cell_type": "code",
   "execution_count": null,
   "metadata": {},
   "outputs": [],
   "source": [
    "x=linspace(0,L,100); % points of visualization\n",
    "points_items={x};\n",
    "solution_items={u}; % create cell of solution handles\n",
    "legend_items={'diffusion mixed'}; % create cell of legends"
   ]
  },
  {
   "cell_type": "markdown",
   "metadata": {},
   "source": [
    "Plotting function:"
   ]
  },
  {
   "cell_type": "code",
   "execution_count": null,
   "metadata": {},
   "outputs": [],
   "source": [
    "function plot_solutions(poi,sol,leg)\n",
    "    figure; hold on\n",
    "    for i=1:length(sol)\n",
    "        plot(poi{i},sol{i}(poi{i}))\n",
    "    end\n",
    "    legend(leg);   % show legend\n",
    "    grid on\n",
    "    xlabel('x')\n",
    "    ylabel('u(x)')\n",
    "end"
   ]
  },
  {
   "cell_type": "code",
   "execution_count": null,
   "metadata": {
    "scrolled": true
   },
   "outputs": [],
   "source": [
    "plot_solutions(points_items,solution_items,legend_items)"
   ]
  },
  {
   "cell_type": "code",
   "execution_count": null,
   "metadata": {},
   "outputs": [],
   "source": [
    "%% Diffusion with mixed boundary conditions + material interface\n",
    "%   -k1*u1''(x)=f   in (0,M)\n",
    "%   -k2*u2''(x)=f   in (M,L)\n",
    "%   u1(0)=U\n",
    "%   -k2*u2'(L)=T\n",
    "%   u1(M)=u2(M)\n",
    "%   k1*u1'(M+)=k2*u2'(M-)\n",
    "k1=k;   % EXAMINE EFFECT OF CHANGING THIS CONSTANT\n",
    "k2=2*k; % EXAMINE EFFECT OF CHANGING THIS CONSTANT\n",
    "M=5;\n",
    "% analytical solution:\n",
    "C2=U;\n",
    "D1=(f*L-T)/k2;\n",
    "C1=D1*k2/k1;\n",
    "D2=-f/(2*k1)*M^2+C1*M+C2+f/(2*k2)*M^2-D1*M;\n",
    "u1=@(x)-f/(2*k1)*x.^2+C1*x+C2;\n",
    "u2=@(x)-f/(2*k2)*x.^2+D1*x+D2;\n",
    "\n",
    "points_items{end+1}=linspace(0,M,100);\n",
    "points_items{end+1}=linspace(M,L,100);\n",
    "solution_items{end+1}=u1;\n",
    "solution_items{end+1}=u2;\n",
    "legend_items{end+1}='d.+interface mixed - u1'; % append legend\n",
    "legend_items{end+1}='d.+interface mixed - u2'; % append legend\n",
    "plot_solutions(points_items,solution_items,legend_items)"
   ]
  },
  {
   "cell_type": "code",
   "execution_count": null,
   "metadata": {},
   "outputs": [],
   "source": [
    "%% Diffusion with mixed boundary conditions + reaction\n",
    "%   -k*u''(x)+k0*u(x)=g     in (0,L)\n",
    "%                u(0)=U\n",
    "%            -k*u'(L)=T\n",
    "k0=0.5;\t% EXAMINE EFFECT OF CHANGING THIS CONSTANT\n",
    "Uhat=5;\t% EXAMINE EFFECT OF CHANGING THIS CONSTANT\n",
    "g=f+k0*Uhat;\n",
    "% analytical solution:\n",
    "K=sqrt(k0/k);\n",
    "C1=(T/k+(U-g/k0)*K*exp(K*L))/K/(exp(-K*L)+exp(K*L));\n",
    "C2=U-C1-g/k0;\n",
    "u=@(x)C1*exp(-K*x)+C2*exp(K*x)+g/k0;\n",
    "\n",
    "points_items{end+1}=x;\n",
    "solution_items{end+1}=u;\n",
    "legend_items{end+1}='d.+reaction mixed';    % append legend\n",
    "plot_solutions(points_items,solution_items,legend_items)"
   ]
  },
  {
   "cell_type": "code",
   "execution_count": null,
   "metadata": {},
   "outputs": [],
   "source": [
    "%% Diffusion with mixed boundary conditions + convection\n",
    "%   -k*u''(x)+D*u'(x)=f     in (0,L)\n",
    "%   u(0)=U\n",
    "%   -k*u'(l)=T\n",
    "D=0.1;    % EXAMINE EFFECT OF CHANGING THIS CONSTANT\n",
    "% analytical solution:\n",
    "C2=(-T/k-f/D)/(D/k*exp(D*L/k));\n",
    "C1=U-C2;\n",
    "u=@(x)C1+C2*exp(D/k*x)+f/D*x;\n",
    "\n",
    "points_items{end+1}=x;\n",
    "solution_items{end+1}=u;\n",
    "legend_items{end+1}='d.+convection mixed';  % append legend\n",
    "plot_solutions(points_items,solution_items,legend_items)"
   ]
  },
  {
   "cell_type": "code",
   "execution_count": null,
   "metadata": {},
   "outputs": [],
   "source": []
  }
 ],
 "metadata": {
  "kernelspec": {
   "display_name": "Octave",
   "language": "octave",
   "name": "octave"
  },
  "language_info": {
   "file_extension": ".m",
   "help_links": [
    {
     "text": "GNU Octave",
     "url": "https://www.gnu.org/software/octave/support.html"
    },
    {
     "text": "Octave Kernel",
     "url": "https://github.com/Calysto/octave_kernel"
    },
    {
     "text": "MetaKernel Magics",
     "url": "https://metakernel.readthedocs.io/en/latest/source/README.html"
    }
   ],
   "mimetype": "text/x-octave",
   "name": "octave",
   "version": "6.4.0"
  }
 },
 "nbformat": 4,
 "nbformat_minor": 4
}
