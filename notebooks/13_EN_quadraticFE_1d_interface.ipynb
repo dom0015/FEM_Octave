{
 "cells": [
  {
   "cell_type": "code",
   "execution_count": null,
   "metadata": {},
   "outputs": [],
   "source": [
    "graphics_toolkit(\"gnuplot\"); % use if \"plot\" does not work"
   ]
  },
  {
   "cell_type": "markdown",
   "metadata": {},
   "source": [
    "## Finite element method (FEM) in 1d\n",
    "Again, solve the boundary value problem with material interface. Instead on linear finite elements, use quadratic."
   ]
  },
  {
   "cell_type": "code",
   "execution_count": null,
   "metadata": {},
   "outputs": [],
   "source": [
    "%% FEM solution using quadratic elements\n",
    "%   -k1*u1''(x)=f   in (0,M)\n",
    "%   -k2*u2''(x)=f   in (M,L)\n",
    "%   u1(0)=U\n",
    "%   -k2*u2'(L)=T\n",
    "%   u1(M)=u2(M)\n",
    "%   k1*u1'(M+)=k2*u2'(M-)\n",
    "\n",
    "%% input parameters\n",
    "k1=10;\n",
    "k2=2;\n",
    "f=0.2;\n",
    "L=10;\n",
    "M=5;\n",
    "U=2;\n",
    "T=0.3;"
   ]
  },
  {
   "cell_type": "code",
   "execution_count": null,
   "metadata": {},
   "outputs": [],
   "source": [
    "%% visualization of basis functions\n",
    "phi1=@(x,h)2*(x.*x-3*x*h/2+h*h/2)/h/h;\n",
    "phi2=@(x,h)-4*(x.*x-x*h)/h/h;\n",
    "phi3=@(x,h)2*(x.*x-x*h./2)/h/h;\n",
    "figure; hold on\n",
    "xx=linspace(0,1,100); \n",
    "plot(xx,phi1(xx,1))\n",
    "plot(xx,phi2(xx,1))\n",
    "plot(xx,phi3(xx,1))\n",
    "legend(['\\phi_1'; '\\phi_2'; '\\phi_3']);\n",
    "grid on"
   ]
  },
  {
   "cell_type": "markdown",
   "metadata": {},
   "source": [
    "Preparation of the discretization and material inputs:"
   ]
  },
  {
   "cell_type": "code",
   "execution_count": null,
   "metadata": {},
   "outputs": [],
   "source": [
    "%% preparation of the network\n",
    "N=6;\n",
    "POINTS=linspace(0,L,2*N+1)';\n",
    "n_POINTS=size(POINTS,1);\n",
    "ELEMENTS=[(1:2:n_POINTS-1)' (2:2:n_POINTS)' (3:2:n_POINTS)'];\n",
    "n_ELEMENTS=size(ELEMENTS,1);\n",
    "DBOUNDARY=1;\n",
    "DVALUE=U;\n",
    "FREENODE=true(n_POINTS,1); FREENODE(DBOUNDARY)=false;\n",
    "NBOUNDARY=n_POINTS;\n",
    "NVALUE=T;\n",
    "LENGTHS=POINTS(ELEMENTS(:,3))-POINTS(ELEMENTS(:,1));\n",
    "MATERIALS=k1*ones(n_ELEMENTS,1);        % material k1 in (0,M)\n",
    "MATERIALS(floor(end*M/L)+1:end)=k2;     % material k2 in (M,L)\n",
    "F=f*ones(n_ELEMENTS,1);"
   ]
  },
  {
   "cell_type": "markdown",
   "metadata": {},
   "source": [
    "Construct FEM matrix and right hand side vector using local matrices and vectors:"
   ]
  },
  {
   "cell_type": "code",
   "execution_count": null,
   "metadata": {},
   "outputs": [],
   "source": [
    "%% local matrix and r. h. s.\n",
    "A_local=[7 -8 1; -8 16 -8; 1 -8 7]/3;\n",
    "% M_local=\n",
    "b_local=[1/6; 2/3; 1/6];\n",
    "\n",
    "%% global matrix and r. h. s.\n",
    "A=zeros(n_POINTS);\n",
    "b=zeros(n_POINTS,1);\n",
    "for i=1:n_ELEMENTS\n",
    "    A(ELEMENTS(i,:),ELEMENTS(i,:))=A(ELEMENTS(i,:),ELEMENTS(i,:))+A_local*MATERIALS(i)/LENGTHS(i);\n",
    "% \tA(ELEMENTS(i,:),ELEMENTS(i,:))=A(ELEMENTS(i,:),ELEMENTS(i,:))+M_local*LENGTHS(i); % for the solution of -k*u''(x)+u(x)=f\n",
    "    b(ELEMENTS(i,:))=b(ELEMENTS(i,:))+b_local*F(i)*LENGTHS(i);\n",
    "end"
   ]
  },
  {
   "cell_type": "markdown",
   "metadata": {},
   "source": [
    "Eliminate unknowns corresponding to Dirichlet nodes, modify the r. h. s. vector according to Neumann boundary conditions, and solve the resulting linear system:"
   ]
  },
  {
   "cell_type": "code",
   "execution_count": null,
   "metadata": {},
   "outputs": [],
   "source": [
    "%% boundary conditions\n",
    "u=zeros(n_POINTS,1);\n",
    "u(~FREENODE)=DVALUE;\n",
    "b=b-A*u;\n",
    "b(NBOUNDARY)=b(NBOUNDARY)-NVALUE;\n",
    "u(FREENODE)=A(FREENODE,FREENODE)\\b(FREENODE);"
   ]
  },
  {
   "cell_type": "markdown",
   "metadata": {},
   "source": [
    "It remains to plot both the analytical solution and the FEM solution:"
   ]
  },
  {
   "cell_type": "code",
   "execution_count": null,
   "metadata": {},
   "outputs": [],
   "source": [
    "%% visualization of the analytical solution\n",
    "figure; hold on\n",
    "C2=U;\n",
    "D1=(f*L-T)/k2;\n",
    "C1=D1*k2/k1;\n",
    "D2=-f/(2*k1)*M^2+C1*M+C2+f/(2*k2)*M^2-D1*M;\n",
    "u1=@(x)-f/(2*k1)*x.^2+C1*x+C2;\n",
    "u2=@(x)-f/(2*k2)*x.^2+D1*x+D2;\n",
    "x1=linspace(0,M,100); x2=linspace(M,L,100); % points of visualization\n",
    "plot(x1,u1(x1)); plot(x2,u2(x2))   % plot of the analytical solution\n",
    "\n",
    "legend('analytical-k_1','analytical-k_2');\n",
    "xlabel('x')\n",
    "ylabel('u(x)')\n",
    "grid on"
   ]
  },
  {
   "cell_type": "code",
   "execution_count": null,
   "metadata": {
    "scrolled": false
   },
   "outputs": [],
   "source": [
    "%% visualization of the FEM solution\n",
    "figure\n",
    "hold on\n",
    "% simple visualization:\n",
    "% plot(POINTS,u);\n",
    "% better visualization:\n",
    "for i=1:n_ELEMENTS\n",
    "    el=POINTS(ELEMENTS(i,:));\n",
    "    u_el=u(ELEMENTS(i,:));\n",
    "    x=linspace(el(1),el(3),100);\n",
    "    h=el(3)-el(1);\n",
    "    plot(x,u_el(1)*phi1(x-el(1),h)+u_el(2)*phi2(x-el(1),h)+u_el(3)*phi3(x-el(1),h));\n",
    "end\n",
    "\n",
    "xlabel('x')\n",
    "ylabel('u(x)')\n",
    "grid on"
   ]
  },
  {
   "cell_type": "markdown",
   "metadata": {},
   "source": [
    "## Tasks:\n",
    "1) Solve the following boundary value problem with reactive term. Use quadratic finite elements."
   ]
  },
  {
   "cell_type": "code",
   "execution_count": null,
   "metadata": {},
   "outputs": [],
   "source": [
    "%% boundary value problem\n",
    "%   -k*u''(x)=f\n",
    "%   u(0)=U\n",
    "%   -k*u'(l)=T"
   ]
  },
  {
   "cell_type": "code",
   "execution_count": null,
   "metadata": {},
   "outputs": [],
   "source": []
  }
 ],
 "metadata": {
  "kernelspec": {
   "display_name": "Octave",
   "language": "octave",
   "name": "octave"
  },
  "language_info": {
   "file_extension": ".m",
   "help_links": [
    {
     "text": "GNU Octave",
     "url": "https://www.gnu.org/software/octave/support.html"
    },
    {
     "text": "Octave Kernel",
     "url": "https://github.com/Calysto/octave_kernel"
    },
    {
     "text": "MetaKernel Magics",
     "url": "https://metakernel.readthedocs.io/en/latest/source/README.html"
    }
   ],
   "mimetype": "text/x-octave",
   "name": "octave",
   "version": "6.4.0"
  }
 },
 "nbformat": 4,
 "nbformat_minor": 4
}
