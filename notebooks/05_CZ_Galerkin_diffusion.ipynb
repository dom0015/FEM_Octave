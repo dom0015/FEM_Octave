{
 "cells": [
  {
   "cell_type": "code",
   "execution_count": null,
   "metadata": {},
   "outputs": [],
   "source": [
    "graphics_toolkit(\"gnuplot\"); % use if \"plot\" does not work"
   ]
  },
  {
   "cell_type": "markdown",
   "metadata": {},
   "source": [
    "## Řešení 1d difúzní úlohy pomocí Galerkinovy metody s polynomiální bází\n",
    "\n",
    "Úkolem je vyřešit následující okrajovou úlohu pomocí Galerkinovy metody s polynomiální bází. Tuto úlohu umíme řešit i analyticky a již jsme ji řešili také metodou konečných diferencí. Toto řešení tedy můžete porovnat s dříve získanými. "
   ]
  },
  {
   "cell_type": "code",
   "execution_count": null,
   "metadata": {},
   "outputs": [],
   "source": [
    "% plot of the numerical solution\n",
    "%   -k*u''(x)=f\n",
    "%   u(0)=U\n",
    "%   -k*u'(l)=T"
   ]
  },
  {
   "cell_type": "markdown",
   "metadata": {},
   "source": [
    "Nastavení všech parametrů výše specifikované úlohy. <br> Začněte nejprve s těmito parametry a až úkol dokončíte, zkuste provádět jejich změny a zkoumat vliv na řešení úlohy."
   ]
  },
  {
   "cell_type": "code",
   "execution_count": null,
   "metadata": {},
   "outputs": [],
   "source": [
    "k=1; \n",
    "L=10;\n",
    "f=1;\n",
    "U=1;\n",
    "T=-1;"
   ]
  },
  {
   "cell_type": "markdown",
   "metadata": {},
   "source": [
    "Můžeme použít polynomiální bázi o libovolné velikosti. Pro jednoduchost začneme bází $ \\{ 1,x,x^2,x^3 \\} $. Konstantní polynom použijeme k \"zakódování\" Dirichletovy okrajové podmínky. Výsledná soustava tedy bude mít velikost $3 \\times 3$. <br>\n",
    "Hledáme tedy řešení ve tvaru\n",
    "$ U+\\alpha_1 \\cdot x + \\alpha_2 \\cdot x^2 + \\alpha_3 \\cdot x^3 $."
   ]
  },
  {
   "cell_type": "code",
   "execution_count": null,
   "metadata": {
    "scrolled": true
   },
   "outputs": [],
   "source": [
    "% Galerkin method with polynomial basis up to x^3\n",
    "A=[ k*L         k*L^2       k*L^3\n",
    "    k*L^2       4/3*k*L^3   3/2*k*L^4\n",
    "    k*L^3       3/2*k*L^4   9/5*k*L^5];\n",
    "b=[ 1/2*f*L^2 - T*L\n",
    "    1/3*f*L^3 - T*L^2\n",
    "    1/4*f*L^4 - T*L^3];\n",
    "alfa=A\\b;\n",
    "disp(alfa)"
   ]
  },
  {
   "cell_type": "markdown",
   "metadata": {},
   "source": [
    "Spočtené koeficienty můžeme dosadit do řešení \n",
    "$ U+\\alpha_1 \\cdot x + \\alpha_2 \\cdot x^2 + \\alpha_3 \\cdot x^3 $. Víme, že řešením je kvadratická funkce. Podle očekávání jsme tedy Galerkinovou metodou dostali přímo přesné řešení a koeficient u $x^3$ vyšel $\\alpha_3=0$. <br>\n",
    "V této úloze zřejmě nemá smysl navyšovat počet polynomů v bázi, všechny další koeficienty by vyšly nulové."
   ]
  },
  {
   "cell_type": "code",
   "execution_count": null,
   "metadata": {},
   "outputs": [],
   "source": [
    "u_G=@(x)U+alfa(1)*x+alfa(2)*x.^2+alfa(3)*x.^3;\n",
    "x_G=linspace(0,L,100);    % points of visualization\n",
    "\n",
    "figure(1)\n",
    "plot(x_G,u_G(x_G)) % plot of the Galerkin solution\n",
    "legend('Galerkin (3)');\n",
    "grid on"
   ]
  },
  {
   "cell_type": "markdown",
   "metadata": {},
   "source": [
    "Úlohu vyřešíme také analyticky, vykreslíme a porovnáme:"
   ]
  },
  {
   "cell_type": "code",
   "execution_count": null,
   "metadata": {
    "scrolled": true
   },
   "outputs": [],
   "source": [
    "%% analytical solution\n",
    "u_analytical=@(x)-f/(2*k)*x.^2+(f*L-T)*x/k+U;\n",
    "\n",
    "figure(2)\n",
    "plot(x_G,u_G(x_G)) % plot of the Galerkin solution\n",
    "hold on\n",
    "plot(x_G,u_analytical(x_G)) % plot of the analytical solution\n",
    "legend('Galerkin (3)','analytical');\n",
    "grid on"
   ]
  },
  {
   "cell_type": "markdown",
   "metadata": {},
   "source": [
    "## Domácí úkol:\n",
    "1) Modifikujte předchozí kód a vyřešte pomocí Galerkinovy metody s polynomiální bází Dirichletovu úlohu <br>\n",
    "    $-k \\cdot u''(x)=f; u \\in (0,L)$ <br>\n",
    "    $u(0)=U_0$ <br>\n",
    "    $u(L)=U_1$ <br>\n",
    "Nápověda: K \"zakódování\" Dirichletových okrajových podmínek budete nyní potřebovat lineární polynom, tj. 2 bázové prvky: $1, x$."
   ]
  },
  {
   "cell_type": "markdown",
   "metadata": {},
   "source": [
    "## Další úkoly:\n",
    "2) Výše jsme si řekli, že nemá smysl uvažovat polynomy vyššího stupně. V dalších úlohách, jejichž řešení není polynomiální, už se nám to ale hodit bude. Zkuste tedy připravit obecnější kód pro Galerkinovu metodu s libovolně velkou polynomiální bází."
   ]
  },
  {
   "cell_type": "code",
   "execution_count": null,
   "metadata": {},
   "outputs": [],
   "source": [
    "% Galerkin method with polynomial basis x, x^2, x^3, ..., x^n\n",
    "n=4;    % maximal degree\n",
    "A=zeros(n);\n",
    "b=zeros(n,1);\n",
    "for i=1:n\n",
    "    for j=1:n\n",
    "        A(i,j)=k*i*j/(i+j-1)*L^(i+j-1);\n",
    "    end\n",
    "    b(i)=f/(i+1)*L^(i+1)-T*L^i;\n",
    "end\n",
    "alfa=A\\b;\n",
    "disp(alfa)"
   ]
  },
  {
   "cell_type": "markdown",
   "metadata": {},
   "source": [
    "Spočtené koeficienty dosadíme do řešení ve tvaru\n",
    "$ U+\\alpha_1 \\cdot x + \\alpha_2 \\cdot x^2 + \\alpha_3 \\cdot x^3 + \\cdots $. "
   ]
  },
  {
   "cell_type": "code",
   "execution_count": null,
   "metadata": {},
   "outputs": [],
   "source": [
    "u_G=@(x)U;\n",
    "for i=1:n\n",
    "    u_G = @(x) u_G(x) + alfa(i)*x.^i;\n",
    "end\n",
    "x_G=linspace(0,L,100);    % points of visualization\n",
    "\n",
    "figure(1)\n",
    "plot(x_G,u_G(x_G)) % plot of the Galerkin solution\n",
    "legend('Galerkin (3)');\n",
    "grid on"
   ]
  },
  {
   "cell_type": "code",
   "execution_count": null,
   "metadata": {},
   "outputs": [],
   "source": []
  }
 ],
 "metadata": {
  "kernelspec": {
   "display_name": "Octave",
   "language": "octave",
   "name": "octave"
  },
  "language_info": {
   "file_extension": ".m",
   "help_links": [
    {
     "text": "GNU Octave",
     "url": "https://www.gnu.org/software/octave/support.html"
    },
    {
     "text": "Octave Kernel",
     "url": "https://github.com/Calysto/octave_kernel"
    },
    {
     "text": "MetaKernel Magics",
     "url": "https://metakernel.readthedocs.io/en/latest/source/README.html"
    }
   ],
   "mimetype": "text/x-octave",
   "name": "octave",
   "version": "6.4.0"
  }
 },
 "nbformat": 4,
 "nbformat_minor": 4
}
